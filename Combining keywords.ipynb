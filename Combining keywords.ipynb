{
 "cells": [
  {
   "cell_type": "code",
   "execution_count": 42,
   "metadata": {},
   "outputs": [],
   "source": [
    "import os\n",
    "import glob\n",
    "import numpy as np\n",
    "import pandas as pd"
   ]
  },
  {
   "cell_type": "code",
   "execution_count": 170,
   "metadata": {},
   "outputs": [
    {
     "name": "stdout",
     "output_type": "stream",
     "text": [
      "Current working directory C:\\Users\\user\\Untitled Folder 3\\data\\may15\n",
      "Directory changed successfully C:\\Users\\user\\Untitled Folder 3\\data\\may09\n"
     ]
    }
   ],
   "source": [
    "path = 'C:\\\\Users\\\\user\\\\Untitled Folder 3\\\\data\\\\may09'\n",
    "\n",
    "# Check current working directory.\n",
    "retval = os.getcwd()\n",
    "print(\"Current working directory %s\" % retval)\n",
    "\n",
    "# Now change the directory\n",
    "os.chdir(path)\n",
    "\n",
    "# Check current working directory.\n",
    "retval = os.getcwd()\n",
    "\n",
    "print(\"Directory changed successfully %s\" % retval)"
   ]
  },
  {
   "cell_type": "code",
   "execution_count": 171,
   "metadata": {},
   "outputs": [],
   "source": [
    "#Use glob to match the pattern ‘csv’\n",
    "extension = 'csv'\n",
    "all_filenames = [i for i in glob.glob('*.{}'.format(extension))]"
   ]
  },
  {
   "cell_type": "code",
   "execution_count": 172,
   "metadata": {},
   "outputs": [],
   "source": [
    "#combine all files in the list\n",
    "df_tweets = pd.concat([pd.read_csv(f) for f in all_filenames ])"
   ]
  },
  {
   "cell_type": "code",
   "execution_count": 173,
   "metadata": {},
   "outputs": [
    {
     "data": {
      "text/html": [
       "<div>\n",
       "<style scoped>\n",
       "    .dataframe tbody tr th:only-of-type {\n",
       "        vertical-align: middle;\n",
       "    }\n",
       "\n",
       "    .dataframe tbody tr th {\n",
       "        vertical-align: top;\n",
       "    }\n",
       "\n",
       "    .dataframe thead th {\n",
       "        text-align: right;\n",
       "    }\n",
       "</style>\n",
       "<table border=\"1\" class=\"dataframe\">\n",
       "  <thead>\n",
       "    <tr style=\"text-align: right;\">\n",
       "      <th></th>\n",
       "      <th>Tweet Coordinates</th>\n",
       "      <th>text</th>\n",
       "      <th>date</th>\n",
       "      <th>id</th>\n",
       "      <th>user</th>\n",
       "      <th>Place Info</th>\n",
       "      <th>location</th>\n",
       "      <th>Geo Enabled</th>\n",
       "      <th>retweet</th>\n",
       "      <th>likes</th>\n",
       "      <th>lang</th>\n",
       "      <th>keyword</th>\n",
       "    </tr>\n",
       "  </thead>\n",
       "  <tbody>\n",
       "    <tr>\n",
       "      <th>0</th>\n",
       "      <td>NaN</td>\n",
       "      <td>RT @FaheemYounus: To “the vaccine have side ef...</td>\n",
       "      <td>2021-05-09 18:20:37</td>\n",
       "      <td>1.391458e+18</td>\n",
       "      <td>thischeena</td>\n",
       "      <td>NaN</td>\n",
       "      <td>NaN</td>\n",
       "      <td>True</td>\n",
       "      <td>2549.0</td>\n",
       "      <td>0.0</td>\n",
       "      <td>en</td>\n",
       "      <td>vaccine</td>\n",
       "    </tr>\n",
       "    <tr>\n",
       "      <th>1</th>\n",
       "      <td>NaN</td>\n",
       "      <td>@_AfricanSoil From my own observation\\nI don't...</td>\n",
       "      <td>2021-05-09 18:20:37</td>\n",
       "      <td>1.391458e+18</td>\n",
       "      <td>mokwenalebogan3</td>\n",
       "      <td>NaN</td>\n",
       "      <td>Pretoria, South Africa</td>\n",
       "      <td>False</td>\n",
       "      <td>0.0</td>\n",
       "      <td>0.0</td>\n",
       "      <td>en</td>\n",
       "      <td>vaccine</td>\n",
       "    </tr>\n",
       "    <tr>\n",
       "      <th>2</th>\n",
       "      <td>NaN</td>\n",
       "      <td>RT @nowthisnews: ‘Grow the f*ck up and get the...</td>\n",
       "      <td>2021-05-09 18:20:37</td>\n",
       "      <td>1.391458e+18</td>\n",
       "      <td>rewir8rh83</td>\n",
       "      <td>NaN</td>\n",
       "      <td>ÜT: 37.678799,-120.987029</td>\n",
       "      <td>True</td>\n",
       "      <td>864.0</td>\n",
       "      <td>0.0</td>\n",
       "      <td>en</td>\n",
       "      <td>vaccine</td>\n",
       "    </tr>\n",
       "    <tr>\n",
       "      <th>3</th>\n",
       "      <td>NaN</td>\n",
       "      <td>RT @vivekagnihotri: Whoever I speak to abroad ...</td>\n",
       "      <td>2021-05-09 18:20:37</td>\n",
       "      <td>1.391458e+18</td>\n",
       "      <td>monambuj</td>\n",
       "      <td>NaN</td>\n",
       "      <td>NaN</td>\n",
       "      <td>False</td>\n",
       "      <td>1950.0</td>\n",
       "      <td>0.0</td>\n",
       "      <td>en</td>\n",
       "      <td>vaccine</td>\n",
       "    </tr>\n",
       "    <tr>\n",
       "      <th>4</th>\n",
       "      <td>NaN</td>\n",
       "      <td>RT @MinhazMerchant: Kejriwal must rank as the ...</td>\n",
       "      <td>2021-05-09 18:20:36</td>\n",
       "      <td>1.391458e+18</td>\n",
       "      <td>Md_Ayesha_</td>\n",
       "      <td>NaN</td>\n",
       "      <td>Dubai, United Arab Emirates</td>\n",
       "      <td>False</td>\n",
       "      <td>354.0</td>\n",
       "      <td>0.0</td>\n",
       "      <td>en</td>\n",
       "      <td>vaccine</td>\n",
       "    </tr>\n",
       "  </tbody>\n",
       "</table>\n",
       "</div>"
      ],
      "text/plain": [
       "  Tweet Coordinates                                               text  \\\n",
       "0               NaN  RT @FaheemYounus: To “the vaccine have side ef...   \n",
       "1               NaN  @_AfricanSoil From my own observation\\nI don't...   \n",
       "2               NaN  RT @nowthisnews: ‘Grow the f*ck up and get the...   \n",
       "3               NaN  RT @vivekagnihotri: Whoever I speak to abroad ...   \n",
       "4               NaN  RT @MinhazMerchant: Kejriwal must rank as the ...   \n",
       "\n",
       "                  date            id             user Place Info  \\\n",
       "0  2021-05-09 18:20:37  1.391458e+18       thischeena        NaN   \n",
       "1  2021-05-09 18:20:37  1.391458e+18  mokwenalebogan3        NaN   \n",
       "2  2021-05-09 18:20:37  1.391458e+18       rewir8rh83        NaN   \n",
       "3  2021-05-09 18:20:37  1.391458e+18         monambuj        NaN   \n",
       "4  2021-05-09 18:20:36  1.391458e+18       Md_Ayesha_        NaN   \n",
       "\n",
       "                      location Geo Enabled  retweet  likes lang  keyword  \n",
       "0                          NaN        True   2549.0    0.0   en  vaccine  \n",
       "1       Pretoria, South Africa       False      0.0    0.0   en  vaccine  \n",
       "2    ÜT: 37.678799,-120.987029        True    864.0    0.0   en  vaccine  \n",
       "3                          NaN       False   1950.0    0.0   en  vaccine  \n",
       "4  Dubai, United Arab Emirates       False    354.0    0.0   en  vaccine  "
      ]
     },
     "execution_count": 173,
     "metadata": {},
     "output_type": "execute_result"
    }
   ],
   "source": [
    "df_tweets.head()"
   ]
  },
  {
   "cell_type": "code",
   "execution_count": 174,
   "metadata": {},
   "outputs": [
    {
     "name": "stdout",
     "output_type": "stream",
     "text": [
      "Earliest tweet:  2021-05-09 14:50:00\n",
      "Latest tweet:  2021-05-09 18:20:37 \n",
      "\n"
     ]
    }
   ],
   "source": [
    "df_tweets['date'] = df_tweets['date'].astype('datetime64')\n",
    "# Check for earliest and latest tweet\n",
    "print(\"Earliest tweet: \", df_tweets['date'].min())\n",
    "print(\"Latest tweet: \", df_tweets['date'].max(), '\\n')"
   ]
  },
  {
   "cell_type": "code",
   "execution_count": 175,
   "metadata": {},
   "outputs": [
    {
     "data": {
      "text/plain": [
       "(17072, 12)"
      ]
     },
     "execution_count": 175,
     "metadata": {},
     "output_type": "execute_result"
    }
   ],
   "source": [
    "df_tweets.shape"
   ]
  },
  {
   "cell_type": "code",
   "execution_count": 176,
   "metadata": {},
   "outputs": [
    {
     "data": {
      "text/plain": [
       "11330"
      ]
     },
     "execution_count": 176,
     "metadata": {},
     "output_type": "execute_result"
    }
   ],
   "source": [
    "df_tweets.duplicated(subset=['text']).sum()"
   ]
  },
  {
   "cell_type": "code",
   "execution_count": 177,
   "metadata": {},
   "outputs": [],
   "source": [
    "df_total_tweets=df_tweets.drop_duplicates(subset=['text'])"
   ]
  },
  {
   "cell_type": "code",
   "execution_count": 178,
   "metadata": {},
   "outputs": [
    {
     "data": {
      "text/plain": [
       "(5742, 12)"
      ]
     },
     "execution_count": 178,
     "metadata": {},
     "output_type": "execute_result"
    }
   ],
   "source": [
    "df_total_tweets.shape"
   ]
  },
  {
   "cell_type": "code",
   "execution_count": 179,
   "metadata": {},
   "outputs": [
    {
     "data": {
      "text/html": [
       "<div>\n",
       "<style scoped>\n",
       "    .dataframe tbody tr th:only-of-type {\n",
       "        vertical-align: middle;\n",
       "    }\n",
       "\n",
       "    .dataframe tbody tr th {\n",
       "        vertical-align: top;\n",
       "    }\n",
       "\n",
       "    .dataframe thead th {\n",
       "        text-align: right;\n",
       "    }\n",
       "</style>\n",
       "<table border=\"1\" class=\"dataframe\">\n",
       "  <thead>\n",
       "    <tr style=\"text-align: right;\">\n",
       "      <th></th>\n",
       "      <th>Tweet Coordinates</th>\n",
       "      <th>text</th>\n",
       "      <th>date</th>\n",
       "      <th>id</th>\n",
       "      <th>user</th>\n",
       "      <th>Place Info</th>\n",
       "      <th>location</th>\n",
       "      <th>Geo Enabled</th>\n",
       "      <th>retweet</th>\n",
       "      <th>likes</th>\n",
       "      <th>lang</th>\n",
       "      <th>keyword</th>\n",
       "    </tr>\n",
       "  </thead>\n",
       "  <tbody>\n",
       "    <tr>\n",
       "      <th>0</th>\n",
       "      <td>NaN</td>\n",
       "      <td>RT @FaheemYounus: To “the vaccine have side ef...</td>\n",
       "      <td>2021-05-09 18:20:37</td>\n",
       "      <td>1.391458e+18</td>\n",
       "      <td>thischeena</td>\n",
       "      <td>NaN</td>\n",
       "      <td>NaN</td>\n",
       "      <td>True</td>\n",
       "      <td>2549.0</td>\n",
       "      <td>0.0</td>\n",
       "      <td>en</td>\n",
       "      <td>vaccine</td>\n",
       "    </tr>\n",
       "    <tr>\n",
       "      <th>1</th>\n",
       "      <td>NaN</td>\n",
       "      <td>@_AfricanSoil From my own observation\\nI don't...</td>\n",
       "      <td>2021-05-09 18:20:37</td>\n",
       "      <td>1.391458e+18</td>\n",
       "      <td>mokwenalebogan3</td>\n",
       "      <td>NaN</td>\n",
       "      <td>Pretoria, South Africa</td>\n",
       "      <td>False</td>\n",
       "      <td>0.0</td>\n",
       "      <td>0.0</td>\n",
       "      <td>en</td>\n",
       "      <td>vaccine</td>\n",
       "    </tr>\n",
       "    <tr>\n",
       "      <th>2</th>\n",
       "      <td>NaN</td>\n",
       "      <td>RT @nowthisnews: ‘Grow the f*ck up and get the...</td>\n",
       "      <td>2021-05-09 18:20:37</td>\n",
       "      <td>1.391458e+18</td>\n",
       "      <td>rewir8rh83</td>\n",
       "      <td>NaN</td>\n",
       "      <td>ÜT: 37.678799,-120.987029</td>\n",
       "      <td>True</td>\n",
       "      <td>864.0</td>\n",
       "      <td>0.0</td>\n",
       "      <td>en</td>\n",
       "      <td>vaccine</td>\n",
       "    </tr>\n",
       "    <tr>\n",
       "      <th>3</th>\n",
       "      <td>NaN</td>\n",
       "      <td>RT @vivekagnihotri: Whoever I speak to abroad ...</td>\n",
       "      <td>2021-05-09 18:20:37</td>\n",
       "      <td>1.391458e+18</td>\n",
       "      <td>monambuj</td>\n",
       "      <td>NaN</td>\n",
       "      <td>NaN</td>\n",
       "      <td>False</td>\n",
       "      <td>1950.0</td>\n",
       "      <td>0.0</td>\n",
       "      <td>en</td>\n",
       "      <td>vaccine</td>\n",
       "    </tr>\n",
       "    <tr>\n",
       "      <th>4</th>\n",
       "      <td>NaN</td>\n",
       "      <td>RT @MinhazMerchant: Kejriwal must rank as the ...</td>\n",
       "      <td>2021-05-09 18:20:36</td>\n",
       "      <td>1.391458e+18</td>\n",
       "      <td>Md_Ayesha_</td>\n",
       "      <td>NaN</td>\n",
       "      <td>Dubai, United Arab Emirates</td>\n",
       "      <td>False</td>\n",
       "      <td>354.0</td>\n",
       "      <td>0.0</td>\n",
       "      <td>en</td>\n",
       "      <td>vaccine</td>\n",
       "    </tr>\n",
       "  </tbody>\n",
       "</table>\n",
       "</div>"
      ],
      "text/plain": [
       "  Tweet Coordinates                                               text  \\\n",
       "0               NaN  RT @FaheemYounus: To “the vaccine have side ef...   \n",
       "1               NaN  @_AfricanSoil From my own observation\\nI don't...   \n",
       "2               NaN  RT @nowthisnews: ‘Grow the f*ck up and get the...   \n",
       "3               NaN  RT @vivekagnihotri: Whoever I speak to abroad ...   \n",
       "4               NaN  RT @MinhazMerchant: Kejriwal must rank as the ...   \n",
       "\n",
       "                 date            id             user Place Info  \\\n",
       "0 2021-05-09 18:20:37  1.391458e+18       thischeena        NaN   \n",
       "1 2021-05-09 18:20:37  1.391458e+18  mokwenalebogan3        NaN   \n",
       "2 2021-05-09 18:20:37  1.391458e+18       rewir8rh83        NaN   \n",
       "3 2021-05-09 18:20:37  1.391458e+18         monambuj        NaN   \n",
       "4 2021-05-09 18:20:36  1.391458e+18       Md_Ayesha_        NaN   \n",
       "\n",
       "                      location Geo Enabled  retweet  likes lang  keyword  \n",
       "0                          NaN        True   2549.0    0.0   en  vaccine  \n",
       "1       Pretoria, South Africa       False      0.0    0.0   en  vaccine  \n",
       "2    ÜT: 37.678799,-120.987029        True    864.0    0.0   en  vaccine  \n",
       "3                          NaN       False   1950.0    0.0   en  vaccine  \n",
       "4  Dubai, United Arab Emirates       False    354.0    0.0   en  vaccine  "
      ]
     },
     "execution_count": 179,
     "metadata": {},
     "output_type": "execute_result"
    }
   ],
   "source": [
    "#searching for tweets with 'giveaways'\n",
    "new_df = df_total_tweets[~df_total_tweets['text'].str.contains('giveaway', na=False)]\n",
    "new_df.head()\n"
   ]
  },
  {
   "cell_type": "code",
   "execution_count": 180,
   "metadata": {},
   "outputs": [
    {
     "data": {
      "text/plain": [
       "(5742, 12)"
      ]
     },
     "execution_count": 180,
     "metadata": {},
     "output_type": "execute_result"
    }
   ],
   "source": [
    "new_df.shape"
   ]
  },
  {
   "cell_type": "code",
   "execution_count": 181,
   "metadata": {},
   "outputs": [],
   "source": [
    "new_df=new_df.drop(['Tweet Coordinates','id','lang', 'Geo Enabled','Place Info','retweet','likes'], axis = 1)"
   ]
  },
  {
   "cell_type": "code",
   "execution_count": 182,
   "metadata": {},
   "outputs": [
    {
     "data": {
      "text/plain": [
       "(5742, 5)"
      ]
     },
     "execution_count": 182,
     "metadata": {},
     "output_type": "execute_result"
    }
   ],
   "source": [
    "new_df.shape"
   ]
  },
  {
   "cell_type": "code",
   "execution_count": 183,
   "metadata": {},
   "outputs": [],
   "source": [
    "vaccine= new_df[new_df['keyword']== 'vaccine']\n",
    "lockdown= new_df[new_df['keyword']== 'lockdown']\n",
    "covidtest= new_df[new_df['keyword']== 'covid test']\n",
    "corona= new_df[new_df['keyword']== 'corona virus']\n",
    "covid19= new_df[new_df['keyword']== 'covid-19']\n",
    "pandemic= new_df[new_df['keyword']== 'pandemic']"
   ]
  },
  {
   "cell_type": "code",
   "execution_count": 184,
   "metadata": {},
   "outputs": [
    {
     "name": "stdout",
     "output_type": "stream",
     "text": [
      "total no of corona virus tweets: 410\n",
      "total no of covid-19 tweets: 779\n",
      "total no of pandemic tweets: 1196\n",
      "total no of lockdown tweets: 1335\n",
      "total no of vaccine tweets: 1120\n",
      "total no of covid test tweets: 902\n"
     ]
    }
   ],
   "source": [
    "print(f'total no of corona virus tweets:' ,len(corona) )\n",
    "print(f'total no of covid-19 tweets:' ,len(covid19) )\n",
    "print(f'total no of pandemic tweets:' ,len(pandemic) )\n",
    "print(f'total no of lockdown tweets:' ,len(lockdown) )\n",
    "print(f'total no of vaccine tweets:' ,len(vaccine) )\n",
    "print(f'total no of covid test tweets:' ,len(covidtest) )"
   ]
  },
  {
   "cell_type": "code",
   "execution_count": 169,
   "metadata": {},
   "outputs": [],
   "source": [
    "new_df.to_csv (r'may15totaltweets.csv', index = False, header=True)"
   ]
  },
  {
   "cell_type": "code",
   "execution_count": null,
   "metadata": {},
   "outputs": [],
   "source": []
  }
 ],
 "metadata": {
  "kernelspec": {
   "display_name": "Python 3",
   "language": "python",
   "name": "python3"
  },
  "language_info": {
   "codemirror_mode": {
    "name": "ipython",
    "version": 3
   },
   "file_extension": ".py",
   "mimetype": "text/x-python",
   "name": "python",
   "nbconvert_exporter": "python",
   "pygments_lexer": "ipython3",
   "version": "3.8.3"
  }
 },
 "nbformat": 4,
 "nbformat_minor": 4
}
