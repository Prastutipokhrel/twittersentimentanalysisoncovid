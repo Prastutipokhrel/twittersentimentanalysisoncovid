{
 "cells": [
  {
   "cell_type": "markdown",
   "metadata": {},
   "source": [
    "## Importing Labelled Data "
   ]
  },
  {
   "cell_type": "code",
   "execution_count": 1,
   "metadata": {},
   "outputs": [],
   "source": [
    "import pandas as pd\n",
    "import numpy as np\n",
    "import re"
   ]
  },
  {
   "cell_type": "code",
   "execution_count": 64,
   "metadata": {},
   "outputs": [],
   "source": [
    "new_df=pd.read_csv(\"C:\\\\Users\\\\user\\\\Twitter analysis Project\\\\data\\\\labelled_Tweets.csv\")"
   ]
  },
  {
   "cell_type": "markdown",
   "metadata": {},
   "source": [
    "# Preprocessing Data\n",
    "1. Replace Emoticons with text\n",
    "2. Replace emojis with text\n",
    "3. Replace all acronyms with their translation\n",
    "4. Replace contraction with words\n",
    "5. Removing punctuations,numbers,special characters , whitespaces\n",
    " \n"
   ]
  },
  {
   "cell_type": "markdown",
   "metadata": {},
   "source": [
    "### Replace Emoticons with text\n"
   ]
  },
  {
   "cell_type": "code",
   "execution_count": 65,
   "metadata": {},
   "outputs": [],
   "source": [
    "# function for converting emoticons to text\n",
    "emoticons = {\n",
    "':-)': 'happy / smile', \n",
    "':)': 'happy / smile', \n",
    "';)': 'wink / glad', \n",
    "':o)': 'happy / smile', \n",
    "':]': 'happy / smile', \n",
    "':3': 'happy / smile', \n",
    "':c)': 'happy / smile',\n",
    "':>': 'happy / smile', \n",
    "'=]': 'happy / smile', \n",
    "'8)': 'happy / smile', \n",
    "'=)': 'happy / smile', \n",
    "':}': 'happy / smile',\n",
    "':^)': 'happy / smile', \n",
    "':-D': 'laugh / big grin',\n",
    "':D': 'laugh / big grin',\n",
    "'8-D': 'laugh / big grin / laugh with glasses / wide-eyed surprise', \n",
    "'8D': 'laugh / big grin / laugh with glasses / wide-eyed surprise', \n",
    "'x-D': 'laugh', \n",
    "'xD': 'laugh', \n",
    "'X-D': 'laugh', \n",
    "'XD': 'laugh', \n",
    "'=-D': 'laugh / big grin', \n",
    "'=D': 'laugh / big grin',\n",
    "'=-3': 'laugh / big grin', \n",
    "'=3': 'laugh / big grin', \n",
    "':-))': 'very happy / double chin', \n",
    "\":'-)\": 'tears of happiness', \n",
    "\":')\": 'tears of happiness', \n",
    "':*': 'kiss', \n",
    "':^*': 'kiss', \n",
    "'>:P': 'tongue sticking out / cheeky / playful / blowing a raspberry', \n",
    "':-P': 'tongue sticking out / cheeky / playful / blowing a raspberry', \n",
    "':P': 'tongue sticking out / cheeky / playful / blowing a raspberry', \n",
    "'X-P': 'tongue sticking out / cheeky / playful / blowing a raspberry',\n",
    "'x-p': 'tongue sticking out / cheeky / playful / blowing a raspberry', \n",
    "'xp': 'tongue sticking out / cheeky / playful / blowing a raspberry', \n",
    "'XP': 'tongue sticking out / cheeky / playful / blowing a raspberry', \n",
    "':-p': 'tongue sticking out / cheeky / playful / blowing a raspberry', \n",
    "':p': 'tongue sticking out / cheeky / playful / blowing a raspberry', \n",
    "'=p': 'tongue sticking out / cheeky / playful / blowing a raspberry', \n",
    "':-b': 'tongue sticking out / cheeky / playful / blowing a raspberry', \n",
    "':b': 'tongue sticking out / cheeky / playful / blowing a raspberry', \n",
    "'>:)': 'devilish / cheeky / playful', \n",
    "'>;)': 'devilish / cheeky / playful / wink', \n",
    "'>:-)': 'devilish / cheeky / playful',\n",
    "'<3': 'heart / love',\n",
    "':L': 'skeptical / undecided / uneasy / hesitant', \n",
    "':-/': 'skeptical / undecided / uneasy / hesitant', \n",
    "'>:/': 'skeptical / annoyed / undecided / uneasy / hesitant', \n",
    "':S': 'skeptical / undecided / uneasy / hesitant', \n",
    "'>:[': 'frown / angry / pouting', \n",
    "':@': 'frown / sad / pouting', \n",
    "':-(': 'frown / sad / pouting', \n",
    "':[': 'frown / sad / pouting', \n",
    "':-||': 'frown / pouting', \n",
    "'=L': 'skeptical / undecided / uneasy / hesitant', \n",
    "':<': 'frown / sad / pouting',\n",
    "':-[': 'frown / sad / pouting', \n",
    "':-<': 'frown / sad / pouting', \n",
    "'=\\\\': 'skeptical / undecided / uneasy / hesitant', \n",
    "'=/': 'skeptical / undecided / uneasy / hesitant', \n",
    "'>:(': 'skeptical / annoyed / undecided / uneasy / hesitant', \n",
    "':(': 'frown / sad / pouting', \n",
    "'>.<': 'frown / pouting', \n",
    "\":'-(\": 'cry', \n",
    "\":'(\": 'cry', \n",
    "':\\\\': 'skeptical / undecided / uneasy / hesitant', \n",
    "':-c': 'frown / sad / pouting',\n",
    "':c': 'frown / sad / pouting', \n",
    "':{': 'frown / sad / pouting', \n",
    "'>:\\\\': 'skeptical / annoyed / undecided / uneasy / hesitant', \n",
    "';(': 'skeptical / annoyed / undecided / uneasy / hesitant'\n",
    "}"
   ]
  },
  {
   "cell_type": "code",
   "execution_count": 66,
   "metadata": {},
   "outputs": [],
   "source": [
    "def emoticon_text(text):\n",
    "    words=text.split()\n",
    "    reformed = [emoticons[word] if word in emoticons else word for word in words]\n",
    "    text = \" \".join(reformed)\n",
    "    return text"
   ]
  },
  {
   "cell_type": "code",
   "execution_count": 67,
   "metadata": {},
   "outputs": [],
   "source": [
    "#Apply converting emoticons to text function to text column in df_tweets dataframe\n",
    "new_df['cleaned_text'] = new_df['text'].apply(lambda x: emoticon_text(x))"
   ]
  },
  {
   "cell_type": "code",
   "execution_count": 68,
   "metadata": {},
   "outputs": [
    {
     "data": {
      "text/html": [
       "<div>\n",
       "<style scoped>\n",
       "    .dataframe tbody tr th:only-of-type {\n",
       "        vertical-align: middle;\n",
       "    }\n",
       "\n",
       "    .dataframe tbody tr th {\n",
       "        vertical-align: top;\n",
       "    }\n",
       "\n",
       "    .dataframe thead th {\n",
       "        text-align: right;\n",
       "    }\n",
       "</style>\n",
       "<table border=\"1\" class=\"dataframe\">\n",
       "  <thead>\n",
       "    <tr style=\"text-align: right;\">\n",
       "      <th></th>\n",
       "      <th>text</th>\n",
       "      <th>cleaned_text</th>\n",
       "    </tr>\n",
       "  </thead>\n",
       "  <tbody>\n",
       "    <tr>\n",
       "      <th>15615</th>\n",
       "      <td>This is everyday at 6:45am on the rt3. POINT I...</td>\n",
       "      <td>This is everyday at 6:45am on the rt3. POINT I...</td>\n",
       "    </tr>\n",
       "    <tr>\n",
       "      <th>15616</th>\n",
       "      <td>India is administering the world's largest vac...</td>\n",
       "      <td>India is administering the world's largest vac...</td>\n",
       "    </tr>\n",
       "    <tr>\n",
       "      <th>15617</th>\n",
       "      <td>COVID-19: Better summer possible with more vac...</td>\n",
       "      <td>COVID-19: Better summer possible with more vac...</td>\n",
       "    </tr>\n",
       "    <tr>\n",
       "      <th>15618</th>\n",
       "      <td>Meditation can be a tool in the proverbial \"to...</td>\n",
       "      <td>Meditation can be a tool in the proverbial \"to...</td>\n",
       "    </tr>\n",
       "    <tr>\n",
       "      <th>15619</th>\n",
       "      <td>🙏 💉💉Required💉💉 🙏 Patient Name 👉asha rawat Pati...</td>\n",
       "      <td>🙏 💉💉Required💉💉 🙏 Patient Name 👉asha rawat Pati...</td>\n",
       "    </tr>\n",
       "    <tr>\n",
       "      <th>...</th>\n",
       "      <td>...</td>\n",
       "      <td>...</td>\n",
       "    </tr>\n",
       "    <tr>\n",
       "      <th>29995</th>\n",
       "      <td>Test mein kaunsa Finisher bhai India rarely cha…</td>\n",
       "      <td>Test mein kaunsa Finisher bhai India rarely cha…</td>\n",
       "    </tr>\n",
       "    <tr>\n",
       "      <th>29996</th>\n",
       "      <td>Our dream of pursuing higher studies is at sta...</td>\n",
       "      <td>Our dream of pursuing higher studies is at sta...</td>\n",
       "    </tr>\n",
       "    <tr>\n",
       "      <th>29997</th>\n",
       "      <td>We've been in lockdown already for almost 8 mo...</td>\n",
       "      <td>We've been in lockdown already for almost 8 mo...</td>\n",
       "    </tr>\n",
       "    <tr>\n",
       "      <th>29998</th>\n",
       "      <td>States have put lockdown as centre never inter...</td>\n",
       "      <td>States have put lockdown as centre never inter...</td>\n",
       "    </tr>\n",
       "    <tr>\n",
       "      <th>29999</th>\n",
       "      <td>More cutting edge journalism from Conservative...</td>\n",
       "      <td>More cutting edge journalism from Conservative...</td>\n",
       "    </tr>\n",
       "  </tbody>\n",
       "</table>\n",
       "<p>14385 rows × 2 columns</p>\n",
       "</div>"
      ],
      "text/plain": [
       "                                                    text  \\\n",
       "15615  This is everyday at 6:45am on the rt3. POINT I...   \n",
       "15616  India is administering the world's largest vac...   \n",
       "15617  COVID-19: Better summer possible with more vac...   \n",
       "15618  Meditation can be a tool in the proverbial \"to...   \n",
       "15619  🙏 💉💉Required💉💉 🙏 Patient Name 👉asha rawat Pati...   \n",
       "...                                                  ...   \n",
       "29995   Test mein kaunsa Finisher bhai India rarely cha…   \n",
       "29996  Our dream of pursuing higher studies is at sta...   \n",
       "29997  We've been in lockdown already for almost 8 mo...   \n",
       "29998  States have put lockdown as centre never inter...   \n",
       "29999  More cutting edge journalism from Conservative...   \n",
       "\n",
       "                                            cleaned_text  \n",
       "15615  This is everyday at 6:45am on the rt3. POINT I...  \n",
       "15616  India is administering the world's largest vac...  \n",
       "15617  COVID-19: Better summer possible with more vac...  \n",
       "15618  Meditation can be a tool in the proverbial \"to...  \n",
       "15619  🙏 💉💉Required💉💉 🙏 Patient Name 👉asha rawat Pati...  \n",
       "...                                                  ...  \n",
       "29995   Test mein kaunsa Finisher bhai India rarely cha…  \n",
       "29996  Our dream of pursuing higher studies is at sta...  \n",
       "29997  We've been in lockdown already for almost 8 mo...  \n",
       "29998  States have put lockdown as centre never inter...  \n",
       "29999  More cutting edge journalism from Conservative...  \n",
       "\n",
       "[14385 rows x 2 columns]"
      ]
     },
     "execution_count": 68,
     "metadata": {},
     "output_type": "execute_result"
    }
   ],
   "source": [
    "new_df[['text','cleaned_text']][15615:30000]"
   ]
  },
  {
   "cell_type": "code",
   "execution_count": 69,
   "metadata": {},
   "outputs": [],
   "source": [
    "import re\n",
    "import emoji\n",
    "# function for twitter text cleaning \n",
    "def emoji_cleaner(text):\n",
    "# convert emojis to text\n",
    "    text = emoji.demojize(text)\n",
    "    text = text.replace(\":\",\" \")\n",
    "    return text"
   ]
  },
  {
   "cell_type": "code",
   "execution_count": 70,
   "metadata": {},
   "outputs": [],
   "source": [
    "new_df['cleaned_text'] = new_df['cleaned_text'].apply(lambda x: emoji_cleaner(x))"
   ]
  },
  {
   "cell_type": "code",
   "execution_count": 71,
   "metadata": {},
   "outputs": [
    {
     "data": {
      "text/html": [
       "<div>\n",
       "<style scoped>\n",
       "    .dataframe tbody tr th:only-of-type {\n",
       "        vertical-align: middle;\n",
       "    }\n",
       "\n",
       "    .dataframe tbody tr th {\n",
       "        vertical-align: top;\n",
       "    }\n",
       "\n",
       "    .dataframe thead th {\n",
       "        text-align: right;\n",
       "    }\n",
       "</style>\n",
       "<table border=\"1\" class=\"dataframe\">\n",
       "  <thead>\n",
       "    <tr style=\"text-align: right;\">\n",
       "      <th></th>\n",
       "      <th>text</th>\n",
       "      <th>cleaned_text</th>\n",
       "    </tr>\n",
       "  </thead>\n",
       "  <tbody>\n",
       "    <tr>\n",
       "      <th>15600</th>\n",
       "      <td>In Nepal, a situation is unfolding that looks ...</td>\n",
       "      <td>In Nepal, a situation is unfolding that looks ...</td>\n",
       "    </tr>\n",
       "    <tr>\n",
       "      <th>15601</th>\n",
       "      <td>Appointments for COVID-19 vaccinations are ava...</td>\n",
       "      <td>Appointments for COVID-19 vaccinations are ava...</td>\n",
       "    </tr>\n",
       "    <tr>\n",
       "      <th>15602</th>\n",
       "      <td>*COVID-19 TESTING IN SOUTH TRINIDAD* A drive-i...</td>\n",
       "      <td>*COVID-19 TESTING IN SOUTH TRINIDAD* A drive-i...</td>\n",
       "    </tr>\n",
       "    <tr>\n",
       "      <th>15603</th>\n",
       "      <td>Uber, Lyft to Provide Free Rides to Covid-19 V...</td>\n",
       "      <td>Uber, Lyft to Provide Free Rides to Covid-19 V...</td>\n",
       "    </tr>\n",
       "    <tr>\n",
       "      <th>15604</th>\n",
       "      <td>In order to maintain public health and safety ...</td>\n",
       "      <td>In order to maintain public health and safety ...</td>\n",
       "    </tr>\n",
       "    <tr>\n",
       "      <th>...</th>\n",
       "      <td>...</td>\n",
       "      <td>...</td>\n",
       "    </tr>\n",
       "    <tr>\n",
       "      <th>29995</th>\n",
       "      <td>Test mein kaunsa Finisher bhai India rarely cha…</td>\n",
       "      <td>Test mein kaunsa Finisher bhai India rarely cha…</td>\n",
       "    </tr>\n",
       "    <tr>\n",
       "      <th>29996</th>\n",
       "      <td>Our dream of pursuing higher studies is at sta...</td>\n",
       "      <td>Our dream of pursuing higher studies is at sta...</td>\n",
       "    </tr>\n",
       "    <tr>\n",
       "      <th>29997</th>\n",
       "      <td>We've been in lockdown already for almost 8 mo...</td>\n",
       "      <td>We've been in lockdown already for almost 8 mo...</td>\n",
       "    </tr>\n",
       "    <tr>\n",
       "      <th>29998</th>\n",
       "      <td>States have put lockdown as centre never inter...</td>\n",
       "      <td>States have put lockdown as centre never inter...</td>\n",
       "    </tr>\n",
       "    <tr>\n",
       "      <th>29999</th>\n",
       "      <td>More cutting edge journalism from Conservative...</td>\n",
       "      <td>More cutting edge journalism from Conservative...</td>\n",
       "    </tr>\n",
       "  </tbody>\n",
       "</table>\n",
       "<p>14400 rows × 2 columns</p>\n",
       "</div>"
      ],
      "text/plain": [
       "                                                    text  \\\n",
       "15600  In Nepal, a situation is unfolding that looks ...   \n",
       "15601  Appointments for COVID-19 vaccinations are ava...   \n",
       "15602  *COVID-19 TESTING IN SOUTH TRINIDAD* A drive-i...   \n",
       "15603  Uber, Lyft to Provide Free Rides to Covid-19 V...   \n",
       "15604  In order to maintain public health and safety ...   \n",
       "...                                                  ...   \n",
       "29995   Test mein kaunsa Finisher bhai India rarely cha…   \n",
       "29996  Our dream of pursuing higher studies is at sta...   \n",
       "29997  We've been in lockdown already for almost 8 mo...   \n",
       "29998  States have put lockdown as centre never inter...   \n",
       "29999  More cutting edge journalism from Conservative...   \n",
       "\n",
       "                                            cleaned_text  \n",
       "15600  In Nepal, a situation is unfolding that looks ...  \n",
       "15601  Appointments for COVID-19 vaccinations are ava...  \n",
       "15602  *COVID-19 TESTING IN SOUTH TRINIDAD* A drive-i...  \n",
       "15603  Uber, Lyft to Provide Free Rides to Covid-19 V...  \n",
       "15604  In order to maintain public health and safety ...  \n",
       "...                                                  ...  \n",
       "29995   Test mein kaunsa Finisher bhai India rarely cha…  \n",
       "29996  Our dream of pursuing higher studies is at sta...  \n",
       "29997  We've been in lockdown already for almost 8 mo...  \n",
       "29998  States have put lockdown as centre never inter...  \n",
       "29999  More cutting edge journalism from Conservative...  \n",
       "\n",
       "[14400 rows x 2 columns]"
      ]
     },
     "execution_count": 71,
     "metadata": {},
     "output_type": "execute_result"
    }
   ],
   "source": [
    "new_df[['text','cleaned_text']][15600:30000]"
   ]
  },
  {
   "cell_type": "markdown",
   "metadata": {},
   "source": [
    "### Replace all acronyms with their translation\n",
    "\n",
    "Next, we replace all acronyms with their translation using the acronym dictionary. At this point, tweets are going to be tokenized by getting rid of the punctuation and using split in order to do the process really fast. We could use nltk.tokenizer but it is definitly much much slower (also much more accurate). Furthermore the replacements will not be perfect, a simple example is the acronym \"im\" meaning \"instant message\". It would not be surprising that in most of the cases, \"im\" means \"I am\". We will do some adjustements later to see if we can improve our results.|"
   ]
  },
  {
   "cell_type": "code",
   "execution_count": 72,
   "metadata": {},
   "outputs": [],
   "source": [
    "import string\n",
    "from collections import Counter"
   ]
  },
  {
   "cell_type": "code",
   "execution_count": 73,
   "metadata": {},
   "outputs": [
    {
     "data": {
      "text/html": [
       "<div>\n",
       "<style scoped>\n",
       "    .dataframe tbody tr th:only-of-type {\n",
       "        vertical-align: middle;\n",
       "    }\n",
       "\n",
       "    .dataframe tbody tr th {\n",
       "        vertical-align: top;\n",
       "    }\n",
       "\n",
       "    .dataframe thead th {\n",
       "        text-align: right;\n",
       "    }\n",
       "</style>\n",
       "<table border=\"1\" class=\"dataframe\">\n",
       "  <thead>\n",
       "    <tr style=\"text-align: right;\">\n",
       "      <th></th>\n",
       "      <th>Acronym</th>\n",
       "      <th>Translation</th>\n",
       "    </tr>\n",
       "  </thead>\n",
       "  <tbody>\n",
       "    <tr>\n",
       "      <th>5459</th>\n",
       "      <td>tomoz</td>\n",
       "      <td>tomorrow</td>\n",
       "    </tr>\n",
       "    <tr>\n",
       "      <th>5460</th>\n",
       "      <td>gpytfaht</td>\n",
       "      <td>gladly pay you tuesday for a hamburger today</td>\n",
       "    </tr>\n",
       "    <tr>\n",
       "      <th>5461</th>\n",
       "      <td>l8rz</td>\n",
       "      <td>later</td>\n",
       "    </tr>\n",
       "    <tr>\n",
       "      <th>5462</th>\n",
       "      <td>sase</td>\n",
       "      <td>self addressed stamped envelope</td>\n",
       "    </tr>\n",
       "    <tr>\n",
       "      <th>5463</th>\n",
       "      <td>bwoc</td>\n",
       "      <td>big woman on campus</td>\n",
       "    </tr>\n",
       "  </tbody>\n",
       "</table>\n",
       "</div>"
      ],
      "text/plain": [
       "       Acronym                                   Translation\n",
       "5459     tomoz                                      tomorrow\n",
       "5460  gpytfaht  gladly pay you tuesday for a hamburger today\n",
       "5461      l8rz                                         later\n",
       "5462      sase               self addressed stamped envelope\n",
       "5463      bwoc                           big woman on campus"
      ]
     },
     "execution_count": 73,
     "metadata": {},
     "output_type": "execute_result"
    }
   ],
   "source": [
    "acronyms = pd.read_csv('C:\\\\Users\\\\user\\\\Twitter analysis Project\\\\tools\\\\acronyms.csv')\n",
    "acronyms.tail(5)"
   ]
  },
  {
   "cell_type": "code",
   "execution_count": 74,
   "metadata": {},
   "outputs": [],
   "source": [
    "acronym_dictionary = dict(zip(acronyms.Acronym, acronyms.Translation))\n",
    "acronyms_counter = Counter()\n",
    "def acronym_translation(text,acronyms_counter):\n",
    "    words=text.split()\n",
    "    new_words=[]\n",
    "    for x,word in enumerate(words):\n",
    "        if word in acronym_dictionary:\n",
    "            acronyms_counter[word] += 1\n",
    "            new_words.extend(acronym_dictionary[word].split())\n",
    "\n",
    "        else:\n",
    "            new_words.append(word)\n",
    "    return \" \".join(new_words)"
   ]
  },
  {
   "cell_type": "code",
   "execution_count": 75,
   "metadata": {},
   "outputs": [],
   "source": [
    "new_df['cleaned_text'] = new_df['cleaned_text'].apply(lambda tweet:acronym_translation(tweet, acronyms_counter)) "
   ]
  },
  {
   "cell_type": "code",
   "execution_count": 76,
   "metadata": {},
   "outputs": [
    {
     "data": {
      "text/plain": [
       "[('2', 542),\n",
       " ('4', 257),\n",
       " ('u', 254),\n",
       " ('gonna', 111),\n",
       " ('r', 95),\n",
       " ('dont', 86),\n",
       " ('ur', 77),\n",
       " ('ppl', 75),\n",
       " ('n', 74),\n",
       " ('im', 69),\n",
       " ('bc', 59),\n",
       " ('pls', 56),\n",
       " ('wanna', 53),\n",
       " ('hai', 49),\n",
       " ('lol', 47),\n",
       " ('yr', 47),\n",
       " ('app', 46),\n",
       " ('@', 43),\n",
       " ('plz', 42),\n",
       " ('w/', 39)]"
      ]
     },
     "execution_count": 76,
     "metadata": {},
     "output_type": "execute_result"
    }
   ],
   "source": [
    "# Get and display top20 acronyms\n",
    "top20acronyms = acronyms_counter.most_common(20)\n",
    "top20acronyms"
   ]
  },
  {
   "cell_type": "code",
   "execution_count": 77,
   "metadata": {},
   "outputs": [
    {
     "name": "stdout",
     "output_type": "stream",
     "text": [
      "1) 2 => too : 542\n",
      "2) 4 => for : 257\n",
      "3) u => you : 254\n",
      "4) gonna => going to : 111\n",
      "5) r => are : 95\n",
      "6) dont => don't : 86\n",
      "7) ur => your : 77\n",
      "8) ppl => people : 75\n",
      "9) n => and : 74\n",
      "10) im => instant message : 69\n",
      "11) bc => because : 59\n",
      "12) pls => please : 56\n",
      "13) wanna => want to : 53\n",
      "14) hai => hello : 49\n",
      "15) lol => laughing out loud : 47\n",
      "16) yr => year : 47\n",
      "17) app => application : 46\n",
      "18) @ => at : 43\n",
      "19) plz => please : 42\n",
      "20) w/ => with : 39\n"
     ]
    }
   ],
   "source": [
    "# Just to better visualize the top 20 acronym\n",
    "for i, (acronym, value) in enumerate(top20acronyms):\n",
    "    print( str(i + 1) + \") \" + acronym + \" => \" + acronym_dictionary[acronym] + \" : \" + str(value))"
   ]
  },
  {
   "cell_type": "code",
   "execution_count": 78,
   "metadata": {},
   "outputs": [
    {
     "data": {
      "text/plain": [
       "([<matplotlib.axis.XTick at 0x280e5899e80>,\n",
       "  <matplotlib.axis.XTick at 0x280e5899e50>,\n",
       "  <matplotlib.axis.XTick at 0x280e58a1af0>,\n",
       "  <matplotlib.axis.XTick at 0x280e58d7fd0>,\n",
       "  <matplotlib.axis.XTick at 0x280e58e3520>,\n",
       "  <matplotlib.axis.XTick at 0x280e58e3a30>,\n",
       "  <matplotlib.axis.XTick at 0x280e58e3f40>,\n",
       "  <matplotlib.axis.XTick at 0x280e58e5490>,\n",
       "  <matplotlib.axis.XTick at 0x280e58e59a0>,\n",
       "  <matplotlib.axis.XTick at 0x280e58e3730>,\n",
       "  <matplotlib.axis.XTick at 0x280e58e5d00>,\n",
       "  <matplotlib.axis.XTick at 0x280e58e5eb0>,\n",
       "  <matplotlib.axis.XTick at 0x280e58e7400>,\n",
       "  <matplotlib.axis.XTick at 0x280e58e7910>,\n",
       "  <matplotlib.axis.XTick at 0x280e58e7e20>,\n",
       "  <matplotlib.axis.XTick at 0x280e58eb370>,\n",
       "  <matplotlib.axis.XTick at 0x280e58eb880>,\n",
       "  <matplotlib.axis.XTick at 0x280e58ebd90>,\n",
       "  <matplotlib.axis.XTick at 0x280e58ed2e0>,\n",
       "  <matplotlib.axis.XTick at 0x280e58eba60>],\n",
       " [Text(0, 0, '2'),\n",
       "  Text(0, 0, '4'),\n",
       "  Text(0, 0, 'u'),\n",
       "  Text(0, 0, 'gonna'),\n",
       "  Text(0, 0, 'r'),\n",
       "  Text(0, 0, 'dont'),\n",
       "  Text(0, 0, 'ur'),\n",
       "  Text(0, 0, 'ppl'),\n",
       "  Text(0, 0, 'n'),\n",
       "  Text(0, 0, 'im'),\n",
       "  Text(0, 0, 'bc'),\n",
       "  Text(0, 0, 'pls'),\n",
       "  Text(0, 0, 'wanna'),\n",
       "  Text(0, 0, 'hai'),\n",
       "  Text(0, 0, 'lol'),\n",
       "  Text(0, 0, 'yr'),\n",
       "  Text(0, 0, 'app'),\n",
       "  Text(0, 0, '@'),\n",
       "  Text(0, 0, 'plz'),\n",
       "  Text(0, 0, 'w/')])"
      ]
     },
     "execution_count": 78,
     "metadata": {},
     "output_type": "execute_result"
    },
    {
     "data": {
      "image/png": "[encoded data removed]",
      "text/plain": [
       "<Figure size 432x288 with 1 Axes>"
      ]
     },
     "metadata": {
      "needs_background": "light"
     },
     "output_type": "display_data"
    }
   ],
   "source": [
    "\n",
    "import matplotlib.pyplot as plt\n",
    "# With a bar plot\n",
    "plt.close()\n",
    "top20acronym_keys = [x[0] for x in top20acronyms]\n",
    "top20acronym_values = [x[1] for x in top20acronyms]\n",
    "indexes = np.arange(len(top20acronym_keys))\n",
    "width = 0.7\n",
    "plt.bar(indexes, top20acronym_values, width)\n",
    "plt.xticks(indexes + width * 0.5, top20acronym_keys, rotation=\"vertical\")"
   ]
  },
  {
   "cell_type": "code",
   "execution_count": 79,
   "metadata": {},
   "outputs": [],
   "source": [
    "# function for replacing contractions\n",
    "contractions = { \n",
    "\"ain't\": \"am not / are not / is not / has not / have not\",\n",
    "\"aren't\": \"are not / am not\",\n",
    "\"can't\": \"cannot\",\n",
    "\"can't've\": \"cannot have\",\n",
    "\"'cause\": \"because\",\n",
    "\"could've\": \"could have\",\n",
    "\"couldn't\": \"could not\",\n",
    "\"couldn't've\": \"could not have\",\n",
    "\"didn't\": \"did not\",\n",
    "\"doesn't\": \"does not\",\n",
    "\"don't\": \"do not\",\n",
    "\"hadn't\": \"had not\",\n",
    "\"hadn't've\": \"had not have\",\n",
    "\"hasn't\": \"has not\",\n",
    "\"haven't\": \"have not\",\n",
    "\"he'd\": \"he had / he would\",\n",
    "\"he'd've\": \"he would have\",\n",
    "\"he'll\": \"he shall / he will\",\n",
    "\"he'll've\": \"he shall have / he will have\",\n",
    "\"he's\": \"he has / he is\",\n",
    "\"how'd\": \"how did\",\n",
    "\"how'd'y\": \"how do you\",\n",
    "\"how'll\": \"how will\",\n",
    "\"how's\": \"how has / how is / how does\",\n",
    "\"i'd\": \"i had / i would\",\n",
    "\"i'd've\": \"i would have\",\n",
    "\"i'll\": \"i shall / i will\",\n",
    "\"i'll've\": \"i shall have / i will have\",\n",
    "\"i'm\": \"i am\",\n",
    "\"i've\": \"i have\",\n",
    "\"isn't\": \"is not\",\n",
    "\"it'd\": \"it had / it would\",\n",
    "\"it'd've\": \"it would have\",\n",
    "\"it'll\": \"it shall / it will\",\n",
    "\"it'll've\": \"it shall have / it will have\",\n",
    "\"it's\": \"it has / it is\",\n",
    "\"let's\": \"let us\",\n",
    "\"ma'am\": \"madam\",\n",
    "\"mayn't\": \"may not\",\n",
    "\"might've\": \"might have\",\n",
    "\"mightn't\": \"might not\",\n",
    "\"mightn't've\": \"might not have\",\n",
    "\"must've\": \"must have\",\n",
    "\"mustn't\": \"must not\",\n",
    "\"mustn't've\": \"must not have\",\n",
    "\"needn't\": \"need not\",\n",
    "\"needn't've\": \"need not have\",\n",
    "\"o'clock\": \"of the clock\",\n",
    "\"oughtn't\": \"ought not\",\n",
    "\"oughtn't've\": \"ought not have\",\n",
    "\"shan't\": \"shall not\",\n",
    "\"sha'n't\": \"shall not\",\n",
    "\"shan't've\": \"shall not have\",\n",
    "\"she'd\": \"she had / she would\",\n",
    "\"she'd've\": \"she would have\",\n",
    "\"she'll\": \"she shall / she will\",\n",
    "\"she'll've\": \"she shall have / she will have\",\n",
    "\"she's\": \"she has / she is\",\n",
    "\"should've\": \"should have\",\n",
    "\"shouldn't\": \"should not\",\n",
    "\"shouldn't've\": \"should not have\",\n",
    "\"so've\": \"so have\",\n",
    "\"so's\": \"so as / so is\",\n",
    "\"that'd\": \"that would / that had\",\n",
    "\"that'd've\": \"that would have\",\n",
    "\"that's\": \"that has / that is\",\n",
    "\"there'd\": \"there had / there would\",\n",
    "\"there'd've\": \"there would have\",\n",
    "\"there's\": \"there has / there is\",\n",
    "\"they'd\": \"they had / they would\",\n",
    "\"they'd've\": \"they would have\",\n",
    "\"they'll\": \"they shall / they will\",\n",
    "\"they'll've\": \"they shall have / they will have\",\n",
    "\"they're\": \"they are\",\n",
    "\"they've\": \"they have\",\n",
    "\"to've\": \"to have\",\n",
    "\"wasn't\": \"was not\",\n",
    "\"we'd\": \"we had / we would\",\n",
    "\"we'd've\": \"we would have\",\n",
    "\"we'll\": \"we will\",\n",
    "\"we'll've\": \"we will have\",\n",
    "\"we're\": \"we are\",\n",
    "\"we've\": \"we have\",\n",
    "\"weren't\": \"were not\",\n",
    "\"what'll\": \"what shall / what will\",\n",
    "\"what'll've\": \"what shall have / what will have\",\n",
    "\"what're\": \"what are\",\n",
    "\"what's\": \"what has / what is\",\n",
    "\"what've\": \"what have\",\n",
    "\"when's\": \"when has / when is\",\n",
    "\"when've\": \"when have\",\n",
    "\"where'd\": \"where did\",\n",
    "\"where's\": \"where has / where is\",\n",
    "\"where've\": \"where have\",\n",
    "\"who'll\": \"who shall / who will\",\n",
    "\"who'll've\": \"who shall have / who will have\",\n",
    "\"who's\": \"who has / who is\",\n",
    "\"who've\": \"who have\",\n",
    "\"why's\": \"why has / why is\",\n",
    "\"why've\": \"why have\",\n",
    "\"will've\": \"will have\",\n",
    "\"won't\": \"will not\",\n",
    "\"won't've\": \"will not have\",\n",
    "\"would've\": \"would have\",\n",
    "\"wouldn't\": \"would not\",\n",
    "\"wouldn't've\": \"would not have\",\n",
    "\"y'all\": \"you all\",\n",
    "\"y'all'd\": \"you all would\",\n",
    "\"y'all'd've\": \"you all would have\",\n",
    "\"y'all're\": \"you all are\",\n",
    "\"y'all've\": \"you all have\",\n",
    "\"you'd\": \"you had / you would\",\n",
    "\"you'd've\": \"you would have\",\n",
    "\"you'll\": \"you shall / you will\",\n",
    "\"you'll've\": \"you shall have / you will have\",\n",
    "\"you're\": \"you are\",\n",
    "\"you've\": \"you have\"\n",
    "}\n",
    "\n",
    "def replace_contractions(text):\n",
    "    text = text.replace(\"’\",\"'\")\n",
    "    text=text.lower()\n",
    "    words = text.split()\n",
    "    reformed = [contractions[word] if word in contractions else word for word in words]\n",
    "    text = \" \".join(reformed)\n",
    "    return text"
   ]
  },
  {
   "cell_type": "code",
   "execution_count": 80,
   "metadata": {},
   "outputs": [],
   "source": [
    "#Apply replace contractions function to cleaned_text column in df_tweets dataframe\n",
    "new_df['cleaned_text'] = new_df['cleaned_text'].apply(lambda x: replace_contractions(x))"
   ]
  },
  {
   "cell_type": "code",
   "execution_count": 81,
   "metadata": {},
   "outputs": [
    {
     "data": {
      "text/html": [
       "<div>\n",
       "<style scoped>\n",
       "    .dataframe tbody tr th:only-of-type {\n",
       "        vertical-align: middle;\n",
       "    }\n",
       "\n",
       "    .dataframe tbody tr th {\n",
       "        vertical-align: top;\n",
       "    }\n",
       "\n",
       "    .dataframe thead th {\n",
       "        text-align: right;\n",
       "    }\n",
       "</style>\n",
       "<table border=\"1\" class=\"dataframe\">\n",
       "  <thead>\n",
       "    <tr style=\"text-align: right;\">\n",
       "      <th></th>\n",
       "      <th>text</th>\n",
       "      <th>cleaned_text</th>\n",
       "    </tr>\n",
       "  </thead>\n",
       "  <tbody>\n",
       "    <tr>\n",
       "      <th>355</th>\n",
       "      <td>COVID-19 vaccine rollout by India has 'rescued...</td>\n",
       "      <td>covid-19 vaccine rollout by india has 'rescued...</td>\n",
       "    </tr>\n",
       "    <tr>\n",
       "      <th>356</th>\n",
       "      <td>No vaccine in our state#jharkhand</td>\n",
       "      <td>no vaccine in our state#jharkhand</td>\n",
       "    </tr>\n",
       "    <tr>\n",
       "      <th>357</th>\n",
       "      <td>“I call upon the US to put an end to export ba...</td>\n",
       "      <td>“i call upon the us to put an end to export ba...</td>\n",
       "    </tr>\n",
       "    <tr>\n",
       "      <th>358</th>\n",
       "      <td>Me when others ask if I have had my vaccine ei...</td>\n",
       "      <td>me when others ask if i have had my vaccine ei...</td>\n",
       "    </tr>\n",
       "    <tr>\n",
       "      <th>359</th>\n",
       "      <td>Fact check: No evidence that a 2-year-old died...</td>\n",
       "      <td>fact check no evidence that a 2-year-old died ...</td>\n",
       "    </tr>\n",
       "    <tr>\n",
       "      <th>...</th>\n",
       "      <td>...</td>\n",
       "      <td>...</td>\n",
       "    </tr>\n",
       "    <tr>\n",
       "      <th>29995</th>\n",
       "      <td>Test mein kaunsa Finisher bhai India rarely cha…</td>\n",
       "      <td>test mein kaunsa finisher bhai india rarely cha…</td>\n",
       "    </tr>\n",
       "    <tr>\n",
       "      <th>29996</th>\n",
       "      <td>Our dream of pursuing higher studies is at sta...</td>\n",
       "      <td>our dream of pursuing higher studies is at sta...</td>\n",
       "    </tr>\n",
       "    <tr>\n",
       "      <th>29997</th>\n",
       "      <td>We've been in lockdown already for almost 8 mo...</td>\n",
       "      <td>we have been in lockdown already for almost 8 ...</td>\n",
       "    </tr>\n",
       "    <tr>\n",
       "      <th>29998</th>\n",
       "      <td>States have put lockdown as centre never inter...</td>\n",
       "      <td>states have put lockdown as centre never inter...</td>\n",
       "    </tr>\n",
       "    <tr>\n",
       "      <th>29999</th>\n",
       "      <td>More cutting edge journalism from Conservative...</td>\n",
       "      <td>more cutting edge journalism from conservative...</td>\n",
       "    </tr>\n",
       "  </tbody>\n",
       "</table>\n",
       "<p>29645 rows × 2 columns</p>\n",
       "</div>"
      ],
      "text/plain": [
       "                                                    text  \\\n",
       "355    COVID-19 vaccine rollout by India has 'rescued...   \n",
       "356                    No vaccine in our state#jharkhand   \n",
       "357    “I call upon the US to put an end to export ba...   \n",
       "358    Me when others ask if I have had my vaccine ei...   \n",
       "359    Fact check: No evidence that a 2-year-old died...   \n",
       "...                                                  ...   \n",
       "29995   Test mein kaunsa Finisher bhai India rarely cha…   \n",
       "29996  Our dream of pursuing higher studies is at sta...   \n",
       "29997  We've been in lockdown already for almost 8 mo...   \n",
       "29998  States have put lockdown as centre never inter...   \n",
       "29999  More cutting edge journalism from Conservative...   \n",
       "\n",
       "                                            cleaned_text  \n",
       "355    covid-19 vaccine rollout by india has 'rescued...  \n",
       "356                    no vaccine in our state#jharkhand  \n",
       "357    “i call upon the us to put an end to export ba...  \n",
       "358    me when others ask if i have had my vaccine ei...  \n",
       "359    fact check no evidence that a 2-year-old died ...  \n",
       "...                                                  ...  \n",
       "29995   test mein kaunsa finisher bhai india rarely cha…  \n",
       "29996  our dream of pursuing higher studies is at sta...  \n",
       "29997  we have been in lockdown already for almost 8 ...  \n",
       "29998  states have put lockdown as centre never inter...  \n",
       "29999  more cutting edge journalism from conservative...  \n",
       "\n",
       "[29645 rows x 2 columns]"
      ]
     },
     "execution_count": 81,
     "metadata": {},
     "output_type": "execute_result"
    }
   ],
   "source": [
    "new_df[['text','cleaned_text']][355:30000]"
   ]
  },
  {
   "cell_type": "markdown",
   "metadata": {},
   "source": [
    "### Removing punctuations,numbers,special characters , whitespaces\n",
    " "
   ]
  },
  {
   "cell_type": "code",
   "execution_count": 82,
   "metadata": {},
   "outputs": [],
   "source": [
    "import re\n",
    "# function for twitter text cleaning \n",
    "def tweet_cleaner(text):\n",
    "    # remove punctuations, numbers, and special characters \n",
    "    text = re.sub(\"[^a-zA-Z]\",\" \",text) \n",
    "        # remove whitespaces \n",
    "    text = ' '.join(text.split()) \n",
    "    return text"
   ]
  },
  {
   "cell_type": "code",
   "execution_count": 83,
   "metadata": {},
   "outputs": [],
   "source": [
    "new_df['cleaned_text'] = new_df['cleaned_text'].apply(lambda x: tweet_cleaner(x))"
   ]
  },
  {
   "cell_type": "code",
   "execution_count": 84,
   "metadata": {},
   "outputs": [
    {
     "data": {
      "text/html": [
       "<div>\n",
       "<style scoped>\n",
       "    .dataframe tbody tr th:only-of-type {\n",
       "        vertical-align: middle;\n",
       "    }\n",
       "\n",
       "    .dataframe tbody tr th {\n",
       "        vertical-align: top;\n",
       "    }\n",
       "\n",
       "    .dataframe thead th {\n",
       "        text-align: right;\n",
       "    }\n",
       "</style>\n",
       "<table border=\"1\" class=\"dataframe\">\n",
       "  <thead>\n",
       "    <tr style=\"text-align: right;\">\n",
       "      <th></th>\n",
       "      <th>text</th>\n",
       "      <th>cleaned_text</th>\n",
       "    </tr>\n",
       "  </thead>\n",
       "  <tbody>\n",
       "    <tr>\n",
       "      <th>15600</th>\n",
       "      <td>In Nepal, a situation is unfolding that looks ...</td>\n",
       "      <td>in nepal a situation is unfolding that looks c...</td>\n",
       "    </tr>\n",
       "    <tr>\n",
       "      <th>15601</th>\n",
       "      <td>Appointments for COVID-19 vaccinations are ava...</td>\n",
       "      <td>appointments for covid vaccinations are availa...</td>\n",
       "    </tr>\n",
       "    <tr>\n",
       "      <th>15602</th>\n",
       "      <td>*COVID-19 TESTING IN SOUTH TRINIDAD* A drive-i...</td>\n",
       "      <td>covid testing in south trinidad a drive in cov...</td>\n",
       "    </tr>\n",
       "    <tr>\n",
       "      <th>15603</th>\n",
       "      <td>Uber, Lyft to Provide Free Rides to Covid-19 V...</td>\n",
       "      <td>uber lyft to provide free rides to covid vacci...</td>\n",
       "    </tr>\n",
       "    <tr>\n",
       "      <th>15604</th>\n",
       "      <td>In order to maintain public health and safety ...</td>\n",
       "      <td>in order to maintain public health and safety ...</td>\n",
       "    </tr>\n",
       "    <tr>\n",
       "      <th>...</th>\n",
       "      <td>...</td>\n",
       "      <td>...</td>\n",
       "    </tr>\n",
       "    <tr>\n",
       "      <th>29995</th>\n",
       "      <td>Test mein kaunsa Finisher bhai India rarely cha…</td>\n",
       "      <td>test mein kaunsa finisher bhai india rarely cha</td>\n",
       "    </tr>\n",
       "    <tr>\n",
       "      <th>29996</th>\n",
       "      <td>Our dream of pursuing higher studies is at sta...</td>\n",
       "      <td>our dream of pursuing higher studies is at sta...</td>\n",
       "    </tr>\n",
       "    <tr>\n",
       "      <th>29997</th>\n",
       "      <td>We've been in lockdown already for almost 8 mo...</td>\n",
       "      <td>we have been in lockdown already for almost mo...</td>\n",
       "    </tr>\n",
       "    <tr>\n",
       "      <th>29998</th>\n",
       "      <td>States have put lockdown as centre never inter...</td>\n",
       "      <td>states have put lockdown as centre never inter...</td>\n",
       "    </tr>\n",
       "    <tr>\n",
       "      <th>29999</th>\n",
       "      <td>More cutting edge journalism from Conservative...</td>\n",
       "      <td>more cutting edge journalism from conservative...</td>\n",
       "    </tr>\n",
       "  </tbody>\n",
       "</table>\n",
       "<p>14400 rows × 2 columns</p>\n",
       "</div>"
      ],
      "text/plain": [
       "                                                    text  \\\n",
       "15600  In Nepal, a situation is unfolding that looks ...   \n",
       "15601  Appointments for COVID-19 vaccinations are ava...   \n",
       "15602  *COVID-19 TESTING IN SOUTH TRINIDAD* A drive-i...   \n",
       "15603  Uber, Lyft to Provide Free Rides to Covid-19 V...   \n",
       "15604  In order to maintain public health and safety ...   \n",
       "...                                                  ...   \n",
       "29995   Test mein kaunsa Finisher bhai India rarely cha…   \n",
       "29996  Our dream of pursuing higher studies is at sta...   \n",
       "29997  We've been in lockdown already for almost 8 mo...   \n",
       "29998  States have put lockdown as centre never inter...   \n",
       "29999  More cutting edge journalism from Conservative...   \n",
       "\n",
       "                                            cleaned_text  \n",
       "15600  in nepal a situation is unfolding that looks c...  \n",
       "15601  appointments for covid vaccinations are availa...  \n",
       "15602  covid testing in south trinidad a drive in cov...  \n",
       "15603  uber lyft to provide free rides to covid vacci...  \n",
       "15604  in order to maintain public health and safety ...  \n",
       "...                                                  ...  \n",
       "29995    test mein kaunsa finisher bhai india rarely cha  \n",
       "29996  our dream of pursuing higher studies is at sta...  \n",
       "29997  we have been in lockdown already for almost mo...  \n",
       "29998  states have put lockdown as centre never inter...  \n",
       "29999  more cutting edge journalism from conservative...  \n",
       "\n",
       "[14400 rows x 2 columns]"
      ]
     },
     "execution_count": 84,
     "metadata": {},
     "output_type": "execute_result"
    }
   ],
   "source": [
    "new_df[['text','cleaned_text']][15600:30000]"
   ]
  },
  {
   "cell_type": "markdown",
   "metadata": {},
   "source": [
    "# Advanced Pre-processing"
   ]
  },
  {
   "cell_type": "code",
   "execution_count": 59,
   "metadata": {},
   "outputs": [
    {
     "name": "stderr",
     "output_type": "stream",
     "text": [
      "[nltk_data] Downloading package punkt to\n",
      "[nltk_data]     C:\\Users\\user\\AppData\\Roaming\\nltk_data...\n",
      "[nltk_data]   Package punkt is already up-to-date!\n"
     ]
    }
   ],
   "source": [
    "import nltk\n",
    "nltk.download('punkt')\n",
    "from nltk.tokenize import word_tokenize\n",
    "from nltk.stem import PorterStemmer \n",
    "from nltk.stem.wordnet import WordNetLemmatizer"
   ]
  },
  {
   "cell_type": "code",
   "execution_count": 60,
   "metadata": {},
   "outputs": [
    {
     "name": "stderr",
     "output_type": "stream",
     "text": [
      "[nltk_data] Downloading package wordnet to\n",
      "[nltk_data]     C:\\Users\\user\\AppData\\Roaming\\nltk_data...\n",
      "[nltk_data]   Package wordnet is already up-to-date!\n"
     ]
    },
    {
     "data": {
      "text/plain": [
       "True"
      ]
     },
     "execution_count": 60,
     "metadata": {},
     "output_type": "execute_result"
    }
   ],
   "source": [
    "nltk.download('wordnet')"
   ]
  },
  {
   "cell_type": "markdown",
   "metadata": {},
   "source": [
    "### Lemmitization"
   ]
  },
  {
   "cell_type": "code",
   "execution_count": 61,
   "metadata": {},
   "outputs": [],
   "source": [
    "\n",
    "# function for lemmatizing words\n",
    "def lemmatize_text(text):\n",
    "    wl = WordNetLemmatizer()\n",
    "    token_words=word_tokenize(str(text))\n",
    "    token_words\n",
    "    lemmatize_text=[]\n",
    "    for word in token_words:\n",
    "        lemmatize_text.append(wl.lemmatize(word))\n",
    "        lemmatize_text.append(\" \")\n",
    "    return \"\".join(lemmatize_text)"
   ]
  },
  {
   "cell_type": "code",
   "execution_count": 62,
   "metadata": {},
   "outputs": [],
   "source": [
    "#Apply lemmatizing text function to cleaned_text column in df_tweets dataframe\n",
    "new_df['cleaned_text'] = new_df['cleaned_text'].apply(lambda x: lemmatize_text(x))"
   ]
  },
  {
   "cell_type": "code",
   "execution_count": 164,
   "metadata": {},
   "outputs": [
    {
     "data": {
      "text/html": [
       "<div>\n",
       "<style scoped>\n",
       "    .dataframe tbody tr th:only-of-type {\n",
       "        vertical-align: middle;\n",
       "    }\n",
       "\n",
       "    .dataframe tbody tr th {\n",
       "        vertical-align: top;\n",
       "    }\n",
       "\n",
       "    .dataframe thead th {\n",
       "        text-align: right;\n",
       "    }\n",
       "</style>\n",
       "<table border=\"1\" class=\"dataframe\">\n",
       "  <thead>\n",
       "    <tr style=\"text-align: right;\">\n",
       "      <th></th>\n",
       "      <th>text</th>\n",
       "      <th>cleaned_text</th>\n",
       "    </tr>\n",
       "  </thead>\n",
       "  <tbody>\n",
       "    <tr>\n",
       "      <th>15600</th>\n",
       "      <td>In Nepal, a situation is unfolding that looks ...</td>\n",
       "      <td>in nepal a situation is unfolding that look ch...</td>\n",
       "    </tr>\n",
       "    <tr>\n",
       "      <th>15601</th>\n",
       "      <td>Appointments for COVID-19 vaccinations are ava...</td>\n",
       "      <td>appointment for covid vaccination are availabl...</td>\n",
       "    </tr>\n",
       "    <tr>\n",
       "      <th>15602</th>\n",
       "      <td>*COVID-19 TESTING IN SOUTH TRINIDAD* A drive-i...</td>\n",
       "      <td>covid testing in south trinidad a drive in cov...</td>\n",
       "    </tr>\n",
       "    <tr>\n",
       "      <th>15603</th>\n",
       "      <td>Uber, Lyft to Provide Free Rides to Covid-19 V...</td>\n",
       "      <td>uber lyft to provide free ride to covid vaccin...</td>\n",
       "    </tr>\n",
       "    <tr>\n",
       "      <th>15604</th>\n",
       "      <td>In order to maintain public health and safety ...</td>\n",
       "      <td>in order to maintain public health and safety ...</td>\n",
       "    </tr>\n",
       "    <tr>\n",
       "      <th>...</th>\n",
       "      <td>...</td>\n",
       "      <td>...</td>\n",
       "    </tr>\n",
       "    <tr>\n",
       "      <th>29995</th>\n",
       "      <td>Test mein kaunsa Finisher bhai India rarely cha…</td>\n",
       "      <td>test mein kaunsa finisher bhai india rarely cha</td>\n",
       "    </tr>\n",
       "    <tr>\n",
       "      <th>29996</th>\n",
       "      <td>Our dream of pursuing higher studies is at sta...</td>\n",
       "      <td>our dream of pursuing higher study is at stake...</td>\n",
       "    </tr>\n",
       "    <tr>\n",
       "      <th>29997</th>\n",
       "      <td>We've been in lockdown already for almost 8 mo...</td>\n",
       "      <td>we have been in lockdown already for almost mo...</td>\n",
       "    </tr>\n",
       "    <tr>\n",
       "      <th>29998</th>\n",
       "      <td>States have put lockdown as centre never inter...</td>\n",
       "      <td>state have put lockdown a centre never interfe...</td>\n",
       "    </tr>\n",
       "    <tr>\n",
       "      <th>29999</th>\n",
       "      <td>More cutting edge journalism from Conservative...</td>\n",
       "      <td>more cutting edge journalism from conservative...</td>\n",
       "    </tr>\n",
       "  </tbody>\n",
       "</table>\n",
       "<p>14400 rows × 2 columns</p>\n",
       "</div>"
      ],
      "text/plain": [
       "                                                    text  \\\n",
       "15600  In Nepal, a situation is unfolding that looks ...   \n",
       "15601  Appointments for COVID-19 vaccinations are ava...   \n",
       "15602  *COVID-19 TESTING IN SOUTH TRINIDAD* A drive-i...   \n",
       "15603  Uber, Lyft to Provide Free Rides to Covid-19 V...   \n",
       "15604  In order to maintain public health and safety ...   \n",
       "...                                                  ...   \n",
       "29995   Test mein kaunsa Finisher bhai India rarely cha…   \n",
       "29996  Our dream of pursuing higher studies is at sta...   \n",
       "29997  We've been in lockdown already for almost 8 mo...   \n",
       "29998  States have put lockdown as centre never inter...   \n",
       "29999  More cutting edge journalism from Conservative...   \n",
       "\n",
       "                                            cleaned_text  \n",
       "15600  in nepal a situation is unfolding that look ch...  \n",
       "15601  appointment for covid vaccination are availabl...  \n",
       "15602  covid testing in south trinidad a drive in cov...  \n",
       "15603  uber lyft to provide free ride to covid vaccin...  \n",
       "15604  in order to maintain public health and safety ...  \n",
       "...                                                  ...  \n",
       "29995   test mein kaunsa finisher bhai india rarely cha   \n",
       "29996  our dream of pursuing higher study is at stake...  \n",
       "29997  we have been in lockdown already for almost mo...  \n",
       "29998  state have put lockdown a centre never interfe...  \n",
       "29999  more cutting edge journalism from conservative...  \n",
       "\n",
       "[14400 rows x 2 columns]"
      ]
     },
     "execution_count": 164,
     "metadata": {},
     "output_type": "execute_result"
    }
   ],
   "source": [
    "new_df[['text','cleaned_text']][15600:30000]"
   ]
  },
  {
   "cell_type": "code",
   "execution_count": 165,
   "metadata": {},
   "outputs": [],
   "source": [
    "new_df.to_csv(r'C:\\\\Users\\\\user\\\\Twitter analysis Project\\\\data\\\\tweets after additional steps\\\\nontokenized_lemm_stopwords.csv', index = False, header=True)"
   ]
  },
  {
   "cell_type": "code",
   "execution_count": 85,
   "metadata": {
    "scrolled": true
   },
   "outputs": [
    {
     "data": {
      "text/html": [
       "<div>\n",
       "<style scoped>\n",
       "    .dataframe tbody tr th:only-of-type {\n",
       "        vertical-align: middle;\n",
       "    }\n",
       "\n",
       "    .dataframe tbody tr th {\n",
       "        vertical-align: top;\n",
       "    }\n",
       "\n",
       "    .dataframe thead th {\n",
       "        text-align: right;\n",
       "    }\n",
       "</style>\n",
       "<table border=\"1\" class=\"dataframe\">\n",
       "  <thead>\n",
       "    <tr style=\"text-align: right;\">\n",
       "      <th></th>\n",
       "      <th>text</th>\n",
       "      <th>cleaned_text</th>\n",
       "    </tr>\n",
       "  </thead>\n",
       "  <tbody>\n",
       "    <tr>\n",
       "      <th>15600</th>\n",
       "      <td>In Nepal, a situation is unfolding that looks ...</td>\n",
       "      <td>[in, nepal, a, situation, is, unfolding, that,...</td>\n",
       "    </tr>\n",
       "    <tr>\n",
       "      <th>15601</th>\n",
       "      <td>Appointments for COVID-19 vaccinations are ava...</td>\n",
       "      <td>[appointments, for, covid, vaccinations, are, ...</td>\n",
       "    </tr>\n",
       "    <tr>\n",
       "      <th>15602</th>\n",
       "      <td>*COVID-19 TESTING IN SOUTH TRINIDAD* A drive-i...</td>\n",
       "      <td>[covid, testing, in, south, trinidad, a, drive...</td>\n",
       "    </tr>\n",
       "    <tr>\n",
       "      <th>15603</th>\n",
       "      <td>Uber, Lyft to Provide Free Rides to Covid-19 V...</td>\n",
       "      <td>[uber, lyft, to, provide, free, rides, to, cov...</td>\n",
       "    </tr>\n",
       "    <tr>\n",
       "      <th>15604</th>\n",
       "      <td>In order to maintain public health and safety ...</td>\n",
       "      <td>[in, order, to, maintain, public, health, and,...</td>\n",
       "    </tr>\n",
       "    <tr>\n",
       "      <th>...</th>\n",
       "      <td>...</td>\n",
       "      <td>...</td>\n",
       "    </tr>\n",
       "    <tr>\n",
       "      <th>29995</th>\n",
       "      <td>Test mein kaunsa Finisher bhai India rarely cha…</td>\n",
       "      <td>[test, mein, kaunsa, finisher, bhai, india, ra...</td>\n",
       "    </tr>\n",
       "    <tr>\n",
       "      <th>29996</th>\n",
       "      <td>Our dream of pursuing higher studies is at sta...</td>\n",
       "      <td>[our, dream, of, pursuing, higher, studies, is...</td>\n",
       "    </tr>\n",
       "    <tr>\n",
       "      <th>29997</th>\n",
       "      <td>We've been in lockdown already for almost 8 mo...</td>\n",
       "      <td>[we, have, been, in, lockdown, already, for, a...</td>\n",
       "    </tr>\n",
       "    <tr>\n",
       "      <th>29998</th>\n",
       "      <td>States have put lockdown as centre never inter...</td>\n",
       "      <td>[states, have, put, lockdown, as, centre, neve...</td>\n",
       "    </tr>\n",
       "    <tr>\n",
       "      <th>29999</th>\n",
       "      <td>More cutting edge journalism from Conservative...</td>\n",
       "      <td>[more, cutting, edge, journalism, from, conser...</td>\n",
       "    </tr>\n",
       "  </tbody>\n",
       "</table>\n",
       "<p>14400 rows × 2 columns</p>\n",
       "</div>"
      ],
      "text/plain": [
       "                                                    text  \\\n",
       "15600  In Nepal, a situation is unfolding that looks ...   \n",
       "15601  Appointments for COVID-19 vaccinations are ava...   \n",
       "15602  *COVID-19 TESTING IN SOUTH TRINIDAD* A drive-i...   \n",
       "15603  Uber, Lyft to Provide Free Rides to Covid-19 V...   \n",
       "15604  In order to maintain public health and safety ...   \n",
       "...                                                  ...   \n",
       "29995   Test mein kaunsa Finisher bhai India rarely cha…   \n",
       "29996  Our dream of pursuing higher studies is at sta...   \n",
       "29997  We've been in lockdown already for almost 8 mo...   \n",
       "29998  States have put lockdown as centre never inter...   \n",
       "29999  More cutting edge journalism from Conservative...   \n",
       "\n",
       "                                            cleaned_text  \n",
       "15600  [in, nepal, a, situation, is, unfolding, that,...  \n",
       "15601  [appointments, for, covid, vaccinations, are, ...  \n",
       "15602  [covid, testing, in, south, trinidad, a, drive...  \n",
       "15603  [uber, lyft, to, provide, free, rides, to, cov...  \n",
       "15604  [in, order, to, maintain, public, health, and,...  \n",
       "...                                                  ...  \n",
       "29995  [test, mein, kaunsa, finisher, bhai, india, ra...  \n",
       "29996  [our, dream, of, pursuing, higher, studies, is...  \n",
       "29997  [we, have, been, in, lockdown, already, for, a...  \n",
       "29998  [states, have, put, lockdown, as, centre, neve...  \n",
       "29999  [more, cutting, edge, journalism, from, conser...  \n",
       "\n",
       "[14400 rows x 2 columns]"
      ]
     },
     "execution_count": 85,
     "metadata": {},
     "output_type": "execute_result"
    }
   ],
   "source": [
    "new_df['cleaned_text'] = new_df['cleaned_text'].apply(lambda x: x.split())\n",
    "new_df[['text','cleaned_text']][15600:30000]"
   ]
  },
  {
   "cell_type": "code",
   "execution_count": 199,
   "metadata": {},
   "outputs": [],
   "source": [
    "new_df.to_csv(r'C:\\\\Users\\\\user\\\\Twitter analysis Project\\\\data\\\\tweets after additional steps\\\\tokenized_nonlemm_stopwords.csv', index = False, header=True)"
   ]
  },
  {
   "cell_type": "code",
   "execution_count": 103,
   "metadata": {},
   "outputs": [],
   "source": [
    " stop_words = {\"i\", \"me\", \"my\", \"myself\", \"we\", \"our\", \"ours\", \"ourselves\",\n",
    "            \"you\", \"your\", \"yours\", \"yourself\", \"yourselves\", \"he\", \"him\",\n",
    "            \"his\", \"himself\", \"she\", \"her\", \"hers\", \"herself\", \"it\", \"its\",\n",
    "            \"itself\", \"they\", \"them\", \"their\", \"theirs\", \"themselves\", \"what\",\n",
    "            \"which\", \"who\", \"whom\", \"this\", \"that\", \"these\", \"those\", \"am\", \"is\",\n",
    "            \"are\", \"was\", \"were\", \"be\", \"been\", \"being\", \"have\", \"has\", \"had\",\n",
    "            \"having\", \"do\", \"does\", \"did\", \"doing\", \"a\", \"an\", \"the\", \"and\",\n",
    "            \"but\", \"if\", \"or\", \"because\", \"as\", \"until\", \"while\", \"of\", \"at\",\n",
    "            \"by\", \"for\", \"with\", \"about\", \"against\", \"between\", \"into\", \"through\",\n",
    "            \"during\", \"before\", \"after\", \"above\", \"below\", \"to\", \"from\", \"up\",\n",
    "            \"down\", \"in\", \"out\", \"on\", \"off\", \"over\", \"under\", \"again\", \"further\",\n",
    "            \"then\", \"once\", \"here\", \"there\", \"when\", \"where\", \"why\", \"how\", \"all\",\n",
    "            \"any\", \"both\", \"each\", \"few\", \"more\", \"most\", \"other\", \"some\", \"such\",\n",
    "            \"only\", \"own\", \"same\", \"so\", \"than\", \"too\", \"very\",\n",
    "            \"can\", \"will\", \"just\", \"should\", \"now\"}"
   ]
  },
  {
   "cell_type": "code",
   "execution_count": 104,
   "metadata": {},
   "outputs": [],
   "source": [
    "#Remove stop words in cleaned_text column\n",
    "# function to remove stopwords\n",
    "def remove_stopwords(text):\n",
    "    no_stopword_text = ' '.join([w for w in str(text).split() if not w in stop_words])\n",
    "    return no_stopword_text"
   ]
  },
  {
   "cell_type": "code",
   "execution_count": 105,
   "metadata": {},
   "outputs": [],
   "source": [
    "#Apply the remove stop words function to cleaned_text column in df_tweets dataframe\n",
    "new_df['cleaned_text'] = new_df['cleaned_text'].apply(lambda x: remove_stopwords(x))"
   ]
  },
  {
   "cell_type": "code",
   "execution_count": 106,
   "metadata": {
    "scrolled": false
   },
   "outputs": [
    {
     "data": {
      "text/html": [
       "<div>\n",
       "<style scoped>\n",
       "    .dataframe tbody tr th:only-of-type {\n",
       "        vertical-align: middle;\n",
       "    }\n",
       "\n",
       "    .dataframe tbody tr th {\n",
       "        vertical-align: top;\n",
       "    }\n",
       "\n",
       "    .dataframe thead th {\n",
       "        text-align: right;\n",
       "    }\n",
       "</style>\n",
       "<table border=\"1\" class=\"dataframe\">\n",
       "  <thead>\n",
       "    <tr style=\"text-align: right;\">\n",
       "      <th></th>\n",
       "      <th>text</th>\n",
       "      <th>date</th>\n",
       "      <th>user</th>\n",
       "      <th>location</th>\n",
       "      <th>keyword</th>\n",
       "      <th>scores</th>\n",
       "      <th>label</th>\n",
       "      <th>cleaned_text</th>\n",
       "    </tr>\n",
       "  </thead>\n",
       "  <tbody>\n",
       "    <tr>\n",
       "      <th>0</th>\n",
       "      <td>To “the vaccine have side effects” crowd If yo...</td>\n",
       "      <td>2021-05-09 18:20:37</td>\n",
       "      <td>thischeena</td>\n",
       "      <td>NaN</td>\n",
       "      <td>vaccine</td>\n",
       "      <td>{'neg': 0.0, 'neu': 1.0, 'pos': 0.0, 'compound...</td>\n",
       "      <td>Neutral</td>\n",
       "      <td>vaccine side effects crowd scrutinized side ef...</td>\n",
       "    </tr>\n",
       "    <tr>\n",
       "      <th>1</th>\n",
       "      <td>From my own observation I don't see that comin...</td>\n",
       "      <td>2021-05-09 18:20:37</td>\n",
       "      <td>mokwenalebogan3</td>\n",
       "      <td>Pretoria, South Africa</td>\n",
       "      <td>vaccine</td>\n",
       "      <td>{'neg': 0.0, 'neu': 1.0, 'pos': 0.0, 'compound...</td>\n",
       "      <td>Neutral</td>\n",
       "      <td>observation not see coming especially vaccine ...</td>\n",
       "    </tr>\n",
       "    <tr>\n",
       "      <th>2</th>\n",
       "      <td>‘Grow the f*ck up and get the vaccine’ — These...</td>\n",
       "      <td>2021-05-09 18:20:37</td>\n",
       "      <td>rewir8rh83</td>\n",
       "      <td>ÜT: 37.678799,-120.987029</td>\n",
       "      <td>vaccine</td>\n",
       "      <td>{'neg': 0.0, 'neu': 0.656, 'pos': 0.344, 'comp...</td>\n",
       "      <td>Positive</td>\n",
       "      <td>grow f ck get vaccine health care workers shar...</td>\n",
       "    </tr>\n",
       "    <tr>\n",
       "      <th>3</th>\n",
       "      <td>Whoever I speak to abroad speaks very highly o...</td>\n",
       "      <td>2021-05-09 18:20:37</td>\n",
       "      <td>monambuj</td>\n",
       "      <td>NaN</td>\n",
       "      <td>vaccine</td>\n",
       "      <td>{'neg': 0.0, 'neu': 1.0, 'pos': 0.0, 'compound...</td>\n",
       "      <td>Neutral</td>\n",
       "      <td>whoever speak abroad speaks highly india s hum...</td>\n",
       "    </tr>\n",
       "    <tr>\n",
       "      <th>4</th>\n",
       "      <td>Kejriwal must rank as the shiftiest politician...</td>\n",
       "      <td>2021-05-09 18:20:36</td>\n",
       "      <td>Md_Ayesha_</td>\n",
       "      <td>Dubai, United Arab Emirates</td>\n",
       "      <td>vaccine</td>\n",
       "      <td>{'neg': 0.189, 'neu': 0.811, 'pos': 0.0, 'comp...</td>\n",
       "      <td>Negative</td>\n",
       "      <td>kejriwal must rank shiftiest politician india ...</td>\n",
       "    </tr>\n",
       "  </tbody>\n",
       "</table>\n",
       "</div>"
      ],
      "text/plain": [
       "                                                text                 date  \\\n",
       "0  To “the vaccine have side effects” crowd If yo...  2021-05-09 18:20:37   \n",
       "1  From my own observation I don't see that comin...  2021-05-09 18:20:37   \n",
       "2  ‘Grow the f*ck up and get the vaccine’ — These...  2021-05-09 18:20:37   \n",
       "3  Whoever I speak to abroad speaks very highly o...  2021-05-09 18:20:37   \n",
       "4  Kejriwal must rank as the shiftiest politician...  2021-05-09 18:20:36   \n",
       "\n",
       "              user                     location  keyword  \\\n",
       "0       thischeena                          NaN  vaccine   \n",
       "1  mokwenalebogan3       Pretoria, South Africa  vaccine   \n",
       "2       rewir8rh83    ÜT: 37.678799,-120.987029  vaccine   \n",
       "3         monambuj                          NaN  vaccine   \n",
       "4       Md_Ayesha_  Dubai, United Arab Emirates  vaccine   \n",
       "\n",
       "                                              scores     label  \\\n",
       "0  {'neg': 0.0, 'neu': 1.0, 'pos': 0.0, 'compound...   Neutral   \n",
       "1  {'neg': 0.0, 'neu': 1.0, 'pos': 0.0, 'compound...   Neutral   \n",
       "2  {'neg': 0.0, 'neu': 0.656, 'pos': 0.344, 'comp...  Positive   \n",
       "3  {'neg': 0.0, 'neu': 1.0, 'pos': 0.0, 'compound...   Neutral   \n",
       "4  {'neg': 0.189, 'neu': 0.811, 'pos': 0.0, 'comp...  Negative   \n",
       "\n",
       "                                        cleaned_text  \n",
       "0  vaccine side effects crowd scrutinized side ef...  \n",
       "1  observation not see coming especially vaccine ...  \n",
       "2  grow f ck get vaccine health care workers shar...  \n",
       "3  whoever speak abroad speaks highly india s hum...  \n",
       "4  kejriwal must rank shiftiest politician india ...  "
      ]
     },
     "execution_count": 106,
     "metadata": {},
     "output_type": "execute_result"
    }
   ],
   "source": [
    "new_df.head()"
   ]
  },
  {
   "cell_type": "code",
   "execution_count": 267,
   "metadata": {},
   "outputs": [],
   "source": [
    "new_df.to_csv(r'C:\\\\Users\\\\user\\\\Twitter analysis Project\\\\data\\\\tweets after additional steps\\\\tokenized_nolemm_nostopwords.csv', index = False, header=True)"
   ]
  },
  {
   "cell_type": "markdown",
   "metadata": {},
   "source": [
    "## Feature extraction (vectorization)"
   ]
  },
  {
   "cell_type": "code",
   "execution_count": 2,
   "metadata": {},
   "outputs": [],
   "source": [
    "new_df=pd.read_csv(\"C:\\\\Users\\\\user\\\\Twitter analysis Project\\\\data\\\\tweets after additional steps\\\\tokenized_nolemm_nostopwords.csv\")"
   ]
  },
  {
   "cell_type": "code",
   "execution_count": 3,
   "metadata": {},
   "outputs": [],
   "source": [
    "from sklearn.model_selection import train_test_split\n",
    "\n",
    "X = new_df['cleaned_text'].values.astype('U')\n",
    "y = new_df['label']\n",
    "\n",
    "X_train, X_test, y_train, y_test = train_test_split(X, y, test_size=0.2, random_state=42)"
   ]
  },
  {
   "cell_type": "code",
   "execution_count": 4,
   "metadata": {},
   "outputs": [
    {
     "data": {
      "text/plain": [
       "<40541x270535 sparse matrix of type '<class 'numpy.int64'>'\n",
       "\twith 789175 stored elements in Compressed Sparse Row format>"
      ]
     },
     "execution_count": 4,
     "metadata": {},
     "output_type": "execute_result"
    }
   ],
   "source": [
    "from sklearn.feature_extraction.text import CountVectorizer\n",
    "vectorizer = CountVectorizer(ngram_range=(1,2)) \n",
    "tweets_countvectorizer = vectorizer.fit_transform(new_df['cleaned_text'].values.astype('U'))\n",
    "tweets_countvectorizer\n"
   ]
  },
  {
   "cell_type": "code",
   "execution_count": 5,
   "metadata": {},
   "outputs": [],
   "source": [
    "from sklearn.model_selection import train_test_split\n",
    "X_train, X_test, y_train, y_test = train_test_split(tweets_countvectorizer, y,\n",
    "                                                    test_size=0.2, random_state=69)"
   ]
  },
  {
   "cell_type": "code",
   "execution_count": 6,
   "metadata": {},
   "outputs": [],
   "source": [
    "from sklearn.naive_bayes import MultinomialNB  # Naive Bayes Classifier\n",
    "\n",
    "model_naive = MultinomialNB().fit(X_train, y_train) \n",
    "predicted_naive = model_naive.predict(X_test)"
   ]
  },
  {
   "cell_type": "code",
   "execution_count": 7,
   "metadata": {},
   "outputs": [],
   "source": [
    "from sklearn import metrics\n",
    "\n",
    "df = pd.DataFrame(metrics.confusion_matrix(y_test,predicted_naive), index=['pos','neg','neu'], columns=['Positive','Negative','Neutral'])"
   ]
  },
  {
   "cell_type": "code",
   "execution_count": 8,
   "metadata": {
    "scrolled": true
   },
   "outputs": [
    {
     "data": {
      "text/html": [
       "<div>\n",
       "<style scoped>\n",
       "    .dataframe tbody tr th:only-of-type {\n",
       "        vertical-align: middle;\n",
       "    }\n",
       "\n",
       "    .dataframe tbody tr th {\n",
       "        vertical-align: top;\n",
       "    }\n",
       "\n",
       "    .dataframe thead th {\n",
       "        text-align: right;\n",
       "    }\n",
       "</style>\n",
       "<table border=\"1\" class=\"dataframe\">\n",
       "  <thead>\n",
       "    <tr style=\"text-align: right;\">\n",
       "      <th></th>\n",
       "      <th>Positive</th>\n",
       "      <th>Negative</th>\n",
       "      <th>Neutral</th>\n",
       "    </tr>\n",
       "  </thead>\n",
       "  <tbody>\n",
       "    <tr>\n",
       "      <th>pos</th>\n",
       "      <td>1482</td>\n",
       "      <td>330</td>\n",
       "      <td>420</td>\n",
       "    </tr>\n",
       "    <tr>\n",
       "      <th>neg</th>\n",
       "      <td>326</td>\n",
       "      <td>1859</td>\n",
       "      <td>542</td>\n",
       "    </tr>\n",
       "    <tr>\n",
       "      <th>neu</th>\n",
       "      <td>319</td>\n",
       "      <td>327</td>\n",
       "      <td>2504</td>\n",
       "    </tr>\n",
       "  </tbody>\n",
       "</table>\n",
       "</div>"
      ],
      "text/plain": [
       "     Positive  Negative  Neutral\n",
       "pos      1482       330      420\n",
       "neg       326      1859      542\n",
       "neu       319       327     2504"
      ]
     },
     "execution_count": 8,
     "metadata": {},
     "output_type": "execute_result"
    }
   ],
   "source": [
    "df"
   ]
  },
  {
   "cell_type": "code",
   "execution_count": 9,
   "metadata": {
    "scrolled": true
   },
   "outputs": [
    {
     "data": {
      "image/png": "[encoded data removed]",
      "text/plain": [
       "<Figure size 3600x2400 with 1 Axes>"
      ]
     },
     "metadata": {
      "needs_background": "light"
     },
     "output_type": "display_data"
    }
   ],
   "source": [
    "from sklearn.metrics import confusion_matrix\n",
    "import matplotlib.pyplot as plt\n",
    "import seaborn as sns\n",
    "plt.figure(dpi=600)\n",
    "mat = confusion_matrix(y_test, predicted_naive)\n",
    "sns.heatmap(mat.T, annot=True, fmt='d', cbar=False)\n",
    "\n",
    "plt.title('Confusion Matrix for our Classifier model')\n",
    "plt.xlabel('predicted label')\n",
    "plt.ylabel('true label')\n",
    "plt.savefig(\"C:\\\\Users\\\\user\\\\Twitter analysis Project\\\\data\\\\confusion_matrix.png\")\n",
    "plt.show()"
   ]
  },
  {
   "cell_type": "code",
   "execution_count": 10,
   "metadata": {},
   "outputs": [
    {
     "name": "stdout",
     "output_type": "stream",
     "text": [
      "              precision    recall  f1-score   support\n",
      "\n",
      "    Negative       0.70      0.66      0.68      2232\n",
      "     Neutral       0.74      0.68      0.71      2727\n",
      "    Positive       0.72      0.79      0.76      3150\n",
      "\n",
      "    accuracy                           0.72      8109\n",
      "   macro avg       0.72      0.71      0.72      8109\n",
      "weighted avg       0.72      0.72      0.72      8109\n",
      "\n"
     ]
    }
   ],
   "source": [
    "print(metrics.classification_report(y_test,predicted_naive))"
   ]
  },
  {
   "cell_type": "code",
   "execution_count": 11,
   "metadata": {
    "scrolled": false
   },
   "outputs": [
    {
     "name": "stdout",
     "output_type": "stream",
     "text": [
      "Accuracy with Naive-bayes:  0.7208040448883956\n"
     ]
    }
   ],
   "source": [
    "from sklearn.metrics import accuracy_score\n",
    "\n",
    "score_naive = accuracy_score( y_test,predicted_naive)\n",
    "print(\"Accuracy with Naive-bayes: \",score_naive)"
   ]
  },
  {
   "cell_type": "code",
   "execution_count": 12,
   "metadata": {},
   "outputs": [
    {
     "name": "stdout",
     "output_type": "stream",
     "text": [
      "              precision    recall  f1-score   support\n",
      "\n",
      "    Negative       0.70      0.66      0.68      2232\n",
      "     Neutral       0.74      0.68      0.71      2727\n",
      "    Positive       0.72      0.79      0.76      3150\n",
      "\n",
      "    accuracy                           0.72      8109\n",
      "   macro avg       0.72      0.71      0.72      8109\n",
      "weighted avg       0.72      0.72      0.72      8109\n",
      "\n"
     ]
    }
   ],
   "source": [
    "# Print a classification report\n",
    "print(metrics.classification_report(y_test,predicted_naive))"
   ]
  },
  {
   "cell_type": "code",
   "execution_count": null,
   "metadata": {},
   "outputs": [],
   "source": []
  }
 ],
 "metadata": {
  "kernelspec": {
   "display_name": "Python 3",
   "language": "python",
   "name": "python3"
  },
  "language_info": {
   "codemirror_mode": {
    "name": "ipython",
    "version": 3
   },
   "file_extension": ".py",
   "mimetype": "text/x-python",
   "name": "python",
   "nbconvert_exporter": "python",
   "pygments_lexer": "ipython3",
   "version": "3.8.3"
  }
 },
 "nbformat": 4,
 "nbformat_minor": 4
}
