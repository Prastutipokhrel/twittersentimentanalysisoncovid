{
 "cells": [
  {
   "cell_type": "code",
   "execution_count": 1,
   "metadata": {
    "scrolled": true
   },
   "outputs": [
    {
     "name": "stdout",
     "output_type": "stream",
     "text": [
      "Requirement already satisfied: numpy in d:\\programdata\\anaconda3\\lib\\site-packages (1.18.5)\n",
      "Requirement already satisfied: nltk in d:\\programdata\\anaconda3\\lib\\site-packages (3.5)\n",
      "Requirement already satisfied: joblib in d:\\programdata\\anaconda3\\lib\\site-packages (from nltk) (0.16.0)\n",
      "Requirement already satisfied: regex in d:\\programdata\\anaconda3\\lib\\site-packages (from nltk) (2020.6.8)\n",
      "Requirement already satisfied: click in d:\\programdata\\anaconda3\\lib\\site-packages (from nltk) (7.1.2)\n",
      "Requirement already satisfied: tqdm in d:\\programdata\\anaconda3\\lib\\site-packages (from nltk) (4.47.0)\n",
      "Requirement already satisfied: emoji in d:\\programdata\\anaconda3\\lib\\site-packages (1.2.0)\n",
      "Requirement already satisfied: pandas in d:\\programdata\\anaconda3\\lib\\site-packages (1.0.5)\n",
      "Requirement already satisfied: python-dateutil>=2.6.1 in d:\\programdata\\anaconda3\\lib\\site-packages (from pandas) (2.8.1)\n",
      "Requirement already satisfied: numpy>=1.13.3 in d:\\programdata\\anaconda3\\lib\\site-packages (from pandas) (1.18.5)\n",
      "Requirement already satisfied: pytz>=2017.2 in d:\\programdata\\anaconda3\\lib\\site-packages (from pandas) (2020.1)\n",
      "Requirement already satisfied: six>=1.5 in d:\\programdata\\anaconda3\\lib\\site-packages (from python-dateutil>=2.6.1->pandas) (1.15.0)\n"
     ]
    }
   ],
   "source": [
    "!pip install numpy\n",
    "!pip install nltk\n",
    "!pip install emoji\n",
    "!pip install pandas\n"
   ]
  },
  {
   "cell_type": "code",
   "execution_count": 2,
   "metadata": {},
   "outputs": [
    {
     "name": "stdout",
     "output_type": "stream",
     "text": [
      "Requirement already satisfied: htmlparser in d:\\programdata\\anaconda3\\lib\\site-packages (0.0.2)\n"
     ]
    },
    {
     "name": "stderr",
     "output_type": "stream",
     "text": [
      "ERROR: Could not find a version that satisfies the requirement markupbase (from versions: none)\n",
      "ERROR: No matching distribution found for markupbase\n"
     ]
    }
   ],
   "source": [
    "!pip install htmlparser\n",
    "!pip install markupbase"
   ]
  },
  {
   "cell_type": "code",
   "execution_count": 3,
   "metadata": {},
   "outputs": [],
   "source": [
    "import emoji\n",
    "import os\n",
    "import glob\n",
    "import pandas as pd\n",
    "import nltk\n",
    "from nltk.tokenize import word_tokenize\n",
    "from nltk.stem import PorterStemmer \n",
    "from nltk.stem.wordnet import WordNetLemmatizer\n",
    "from nltk.corpus import stopwords"
   ]
  },
  {
   "cell_type": "code",
   "execution_count": 39,
   "metadata": {},
   "outputs": [
    {
     "name": "stdout",
     "output_type": "stream",
     "text": [
      "Current working directory C:\\Users\\user\\Untitled Folder 3\n",
      "Directory changed successfully C:\\Users\\user\\Untitled Folder 3\\data\\all_tweets\n"
     ]
    }
   ],
   "source": [
    "path = 'C:\\\\Users\\\\user\\\\Untitled Folder 3\\\\data\\\\all_tweets'\n",
    "\n",
    "# Check current working directory.\n",
    "retval = os.getcwd()\n",
    "print(\"Current working directory %s\" % retval)\n",
    "\n",
    "# Now change the directory\n",
    "os.chdir(path)\n",
    "\n",
    "# Check current working directory.\n",
    "retval = os.getcwd()\n",
    "\n",
    "print(\"Directory changed successfully %s\" % retval)"
   ]
  },
  {
   "cell_type": "code",
   "execution_count": 40,
   "metadata": {},
   "outputs": [],
   "source": [
    "#Use glob to match the pattern ‘csv’\n",
    "extension = 'csv'\n",
    "all_filenames = [i for i in glob.glob('*.{}'.format(extension))]"
   ]
  },
  {
   "cell_type": "code",
   "execution_count": 41,
   "metadata": {},
   "outputs": [],
   "source": [
    "\n",
    "#combine all files in the list\n",
    "df_tweets = pd.concat([pd.read_csv(f) for f in all_filenames ])"
   ]
  },
  {
   "cell_type": "code",
   "execution_count": 42,
   "metadata": {
    "scrolled": true
   },
   "outputs": [
    {
     "data": {
      "text/html": [
       "<div>\n",
       "<style scoped>\n",
       "    .dataframe tbody tr th:only-of-type {\n",
       "        vertical-align: middle;\n",
       "    }\n",
       "\n",
       "    .dataframe tbody tr th {\n",
       "        vertical-align: top;\n",
       "    }\n",
       "\n",
       "    .dataframe thead th {\n",
       "        text-align: right;\n",
       "    }\n",
       "</style>\n",
       "<table border=\"1\" class=\"dataframe\">\n",
       "  <thead>\n",
       "    <tr style=\"text-align: right;\">\n",
       "      <th></th>\n",
       "      <th>text</th>\n",
       "      <th>date</th>\n",
       "      <th>user</th>\n",
       "      <th>location</th>\n",
       "      <th>keyword</th>\n",
       "    </tr>\n",
       "  </thead>\n",
       "  <tbody>\n",
       "    <tr>\n",
       "      <th>0</th>\n",
       "      <td>RT @FaheemYounus: To “the vaccine have side ef...</td>\n",
       "      <td>2021-05-09 18:20:37</td>\n",
       "      <td>thischeena</td>\n",
       "      <td>NaN</td>\n",
       "      <td>vaccine</td>\n",
       "    </tr>\n",
       "    <tr>\n",
       "      <th>1</th>\n",
       "      <td>@_AfricanSoil From my own observation\\nI don't...</td>\n",
       "      <td>2021-05-09 18:20:37</td>\n",
       "      <td>mokwenalebogan3</td>\n",
       "      <td>Pretoria, South Africa</td>\n",
       "      <td>vaccine</td>\n",
       "    </tr>\n",
       "    <tr>\n",
       "      <th>2</th>\n",
       "      <td>RT @nowthisnews: ‘Grow the f*ck up and get the...</td>\n",
       "      <td>2021-05-09 18:20:37</td>\n",
       "      <td>rewir8rh83</td>\n",
       "      <td>ÜT: 37.678799,-120.987029</td>\n",
       "      <td>vaccine</td>\n",
       "    </tr>\n",
       "    <tr>\n",
       "      <th>3</th>\n",
       "      <td>RT @vivekagnihotri: Whoever I speak to abroad ...</td>\n",
       "      <td>2021-05-09 18:20:37</td>\n",
       "      <td>monambuj</td>\n",
       "      <td>NaN</td>\n",
       "      <td>vaccine</td>\n",
       "    </tr>\n",
       "    <tr>\n",
       "      <th>4</th>\n",
       "      <td>RT @MinhazMerchant: Kejriwal must rank as the ...</td>\n",
       "      <td>2021-05-09 18:20:36</td>\n",
       "      <td>Md_Ayesha_</td>\n",
       "      <td>Dubai, United Arab Emirates</td>\n",
       "      <td>vaccine</td>\n",
       "    </tr>\n",
       "  </tbody>\n",
       "</table>\n",
       "</div>"
      ],
      "text/plain": [
       "                                                text                 date  \\\n",
       "0  RT @FaheemYounus: To “the vaccine have side ef...  2021-05-09 18:20:37   \n",
       "1  @_AfricanSoil From my own observation\\nI don't...  2021-05-09 18:20:37   \n",
       "2  RT @nowthisnews: ‘Grow the f*ck up and get the...  2021-05-09 18:20:37   \n",
       "3  RT @vivekagnihotri: Whoever I speak to abroad ...  2021-05-09 18:20:37   \n",
       "4  RT @MinhazMerchant: Kejriwal must rank as the ...  2021-05-09 18:20:36   \n",
       "\n",
       "              user                     location  keyword  \n",
       "0       thischeena                          NaN  vaccine  \n",
       "1  mokwenalebogan3       Pretoria, South Africa  vaccine  \n",
       "2       rewir8rh83    ÜT: 37.678799,-120.987029  vaccine  \n",
       "3         monambuj                          NaN  vaccine  \n",
       "4       Md_Ayesha_  Dubai, United Arab Emirates  vaccine  "
      ]
     },
     "execution_count": 42,
     "metadata": {},
     "output_type": "execute_result"
    }
   ],
   "source": [
    "#Check first 5 rows of df_tweets dataset\n",
    "df_tweets.head()"
   ]
  },
  {
   "cell_type": "code",
   "execution_count": 43,
   "metadata": {},
   "outputs": [
    {
     "data": {
      "text/plain": [
       "(43752, 5)"
      ]
     },
     "execution_count": 43,
     "metadata": {},
     "output_type": "execute_result"
    }
   ],
   "source": [
    "df_tweets.shape"
   ]
  },
  {
   "cell_type": "code",
   "execution_count": 44,
   "metadata": {},
   "outputs": [
    {
     "name": "stdout",
     "output_type": "stream",
     "text": [
      "<class 'pandas.core.frame.DataFrame'>\n",
      "Int64Index: 43752 entries, 0 to 6052\n",
      "Data columns (total 5 columns):\n",
      " #   Column    Non-Null Count  Dtype \n",
      "---  ------    --------------  ----- \n",
      " 0   text      43752 non-null  object\n",
      " 1   date      43752 non-null  object\n",
      " 2   user      43752 non-null  object\n",
      " 3   location  29497 non-null  object\n",
      " 4   keyword   43752 non-null  object\n",
      "dtypes: object(5)\n",
      "memory usage: 2.0+ MB\n"
     ]
    }
   ],
   "source": [
    "#Get summary of df_tweets dataframe\n",
    "df_tweets.info()"
   ]
  },
  {
   "cell_type": "code",
   "execution_count": 45,
   "metadata": {},
   "outputs": [
    {
     "data": {
      "text/plain": [
       "text            0\n",
       "date            0\n",
       "user            0\n",
       "location    14255\n",
       "keyword         0\n",
       "dtype: int64"
      ]
     },
     "execution_count": 45,
     "metadata": {},
     "output_type": "execute_result"
    }
   ],
   "source": [
    "#Check sum of missing values in each column of df_tweets dataframe\n",
    "df_tweets.isnull().sum()"
   ]
  },
  {
   "cell_type": "code",
   "execution_count": 46,
   "metadata": {},
   "outputs": [
    {
     "name": "stdout",
     "output_type": "stream",
     "text": [
      "Earliest tweet:  2021-05-09 14:50:00\n",
      "Latest tweet:  2021-05-15 18:55:03 \n",
      "\n"
     ]
    }
   ],
   "source": [
    "# Convert created_at and account_created_at variables from object to datetime64 \n",
    "df_tweets['date'] = df_tweets['date'].astype('datetime64')\n",
    "# Check for earliest and latest tweet\n",
    "print(\"Earliest tweet: \", df_tweets['date'].min())\n",
    "print(\"Latest tweet: \", df_tweets['date'].max(), '\\n')"
   ]
  },
  {
   "cell_type": "code",
   "execution_count": 47,
   "metadata": {
    "scrolled": false
   },
   "outputs": [
    {
     "data": {
      "text/html": [
       "<div>\n",
       "<style scoped>\n",
       "    .dataframe tbody tr th:only-of-type {\n",
       "        vertical-align: middle;\n",
       "    }\n",
       "\n",
       "    .dataframe tbody tr th {\n",
       "        vertical-align: top;\n",
       "    }\n",
       "\n",
       "    .dataframe thead th {\n",
       "        text-align: right;\n",
       "    }\n",
       "</style>\n",
       "<table border=\"1\" class=\"dataframe\">\n",
       "  <thead>\n",
       "    <tr style=\"text-align: right;\">\n",
       "      <th></th>\n",
       "      <th>text</th>\n",
       "      <th>date</th>\n",
       "      <th>user</th>\n",
       "      <th>location</th>\n",
       "      <th>keyword</th>\n",
       "    </tr>\n",
       "  </thead>\n",
       "  <tbody>\n",
       "    <tr>\n",
       "      <th>0</th>\n",
       "      <td>RT @FaheemYounus: To “the vaccine have side ef...</td>\n",
       "      <td>2021-05-09 18:20:37</td>\n",
       "      <td>thischeena</td>\n",
       "      <td>NaN</td>\n",
       "      <td>vaccine</td>\n",
       "    </tr>\n",
       "    <tr>\n",
       "      <th>1</th>\n",
       "      <td>@_AfricanSoil From my own observation\\nI don't...</td>\n",
       "      <td>2021-05-09 18:20:37</td>\n",
       "      <td>mokwenalebogan3</td>\n",
       "      <td>Pretoria, South Africa</td>\n",
       "      <td>vaccine</td>\n",
       "    </tr>\n",
       "    <tr>\n",
       "      <th>2</th>\n",
       "      <td>RT @nowthisnews: ‘Grow the f*ck up and get the...</td>\n",
       "      <td>2021-05-09 18:20:37</td>\n",
       "      <td>rewir8rh83</td>\n",
       "      <td>ÜT: 37.678799,-120.987029</td>\n",
       "      <td>vaccine</td>\n",
       "    </tr>\n",
       "    <tr>\n",
       "      <th>3</th>\n",
       "      <td>RT @vivekagnihotri: Whoever I speak to abroad ...</td>\n",
       "      <td>2021-05-09 18:20:37</td>\n",
       "      <td>monambuj</td>\n",
       "      <td>NaN</td>\n",
       "      <td>vaccine</td>\n",
       "    </tr>\n",
       "    <tr>\n",
       "      <th>4</th>\n",
       "      <td>RT @MinhazMerchant: Kejriwal must rank as the ...</td>\n",
       "      <td>2021-05-09 18:20:36</td>\n",
       "      <td>Md_Ayesha_</td>\n",
       "      <td>Dubai, United Arab Emirates</td>\n",
       "      <td>vaccine</td>\n",
       "    </tr>\n",
       "    <tr>\n",
       "      <th>5</th>\n",
       "      <td>RT @emilyyyhu: Me two hours ago: this vaccine ...</td>\n",
       "      <td>2021-05-09 18:20:35</td>\n",
       "      <td>mihu0307</td>\n",
       "      <td>By Liliana's side | She/They |</td>\n",
       "      <td>vaccine</td>\n",
       "    </tr>\n",
       "    <tr>\n",
       "      <th>6</th>\n",
       "      <td>@Melorra99 @VaxHuntersCan It's moving really q...</td>\n",
       "      <td>2021-05-09 18:20:35</td>\n",
       "      <td>kpnov23</td>\n",
       "      <td>NaN</td>\n",
       "      <td>vaccine</td>\n",
       "    </tr>\n",
       "    <tr>\n",
       "      <th>7</th>\n",
       "      <td>RT @BBCWorld: Dracula's castle in Romania offe...</td>\n",
       "      <td>2021-05-09 18:20:35</td>\n",
       "      <td>warlockthunder1</td>\n",
       "      <td>Oakville, Ontario</td>\n",
       "      <td>vaccine</td>\n",
       "    </tr>\n",
       "    <tr>\n",
       "      <th>8</th>\n",
       "      <td>@nowthisnews While all the Twitheads out there...</td>\n",
       "      <td>2021-05-09 18:20:34</td>\n",
       "      <td>kadb99</td>\n",
       "      <td>NaN</td>\n",
       "      <td>vaccine</td>\n",
       "    </tr>\n",
       "    <tr>\n",
       "      <th>9</th>\n",
       "      <td>RT @calamur: have you seen the photo on our va...</td>\n",
       "      <td>2021-05-09 18:20:34</td>\n",
       "      <td>MANJITSINGHARYA</td>\n",
       "      <td>haryana (india)</td>\n",
       "      <td>vaccine</td>\n",
       "    </tr>\n",
       "  </tbody>\n",
       "</table>\n",
       "</div>"
      ],
      "text/plain": [
       "                                                text                date  \\\n",
       "0  RT @FaheemYounus: To “the vaccine have side ef... 2021-05-09 18:20:37   \n",
       "1  @_AfricanSoil From my own observation\\nI don't... 2021-05-09 18:20:37   \n",
       "2  RT @nowthisnews: ‘Grow the f*ck up and get the... 2021-05-09 18:20:37   \n",
       "3  RT @vivekagnihotri: Whoever I speak to abroad ... 2021-05-09 18:20:37   \n",
       "4  RT @MinhazMerchant: Kejriwal must rank as the ... 2021-05-09 18:20:36   \n",
       "5  RT @emilyyyhu: Me two hours ago: this vaccine ... 2021-05-09 18:20:35   \n",
       "6  @Melorra99 @VaxHuntersCan It's moving really q... 2021-05-09 18:20:35   \n",
       "7  RT @BBCWorld: Dracula's castle in Romania offe... 2021-05-09 18:20:35   \n",
       "8  @nowthisnews While all the Twitheads out there... 2021-05-09 18:20:34   \n",
       "9  RT @calamur: have you seen the photo on our va... 2021-05-09 18:20:34   \n",
       "\n",
       "              user                        location  keyword  \n",
       "0       thischeena                             NaN  vaccine  \n",
       "1  mokwenalebogan3          Pretoria, South Africa  vaccine  \n",
       "2       rewir8rh83       ÜT: 37.678799,-120.987029  vaccine  \n",
       "3         monambuj                             NaN  vaccine  \n",
       "4       Md_Ayesha_     Dubai, United Arab Emirates  vaccine  \n",
       "5         mihu0307  By Liliana's side | She/They |  vaccine  \n",
       "6          kpnov23                             NaN  vaccine  \n",
       "7  warlockthunder1               Oakville, Ontario  vaccine  \n",
       "8           kadb99                             NaN  vaccine  \n",
       "9  MANJITSINGHARYA                 haryana (india)  vaccine  "
      ]
     },
     "execution_count": 47,
     "metadata": {},
     "output_type": "execute_result"
    }
   ],
   "source": [
    "df_tweets.head(10)"
   ]
  },
  {
   "cell_type": "code",
   "execution_count": 48,
   "metadata": {},
   "outputs": [],
   "source": [
    "df_tweets.to_csv (r'C:\\\\Users\\\\user\\\\Untitled Folder 3\\\\data\\\\total_tweets.csv', index = False, header=True)"
   ]
  },
  {
   "cell_type": "code",
   "execution_count": 49,
   "metadata": {},
   "outputs": [
    {
     "data": {
      "text/plain": [
       "1154"
      ]
     },
     "execution_count": 49,
     "metadata": {},
     "output_type": "execute_result"
    }
   ],
   "source": [
    "df_tweets.duplicated(subset=['text']).sum()"
   ]
  },
  {
   "cell_type": "code",
   "execution_count": 50,
   "metadata": {},
   "outputs": [],
   "source": [
    "new_df=df_tweets.drop_duplicates(subset=['text'])"
   ]
  },
  {
   "cell_type": "code",
   "execution_count": 51,
   "metadata": {
    "scrolled": true
   },
   "outputs": [
    {
     "data": {
      "text/plain": [
       "(42598, 5)"
      ]
     },
     "execution_count": 51,
     "metadata": {},
     "output_type": "execute_result"
    }
   ],
   "source": [
    "new_df.shape"
   ]
  },
  {
   "cell_type": "code",
   "execution_count": 52,
   "metadata": {},
   "outputs": [],
   "source": [
    "import re\n",
    "#a pipeline to clean up text  for VADER\n",
    "def tweet_cleaner(text):\n",
    "    #remove RT\n",
    "    text = re.sub(\"RT @[\\w]*:\",\"\",text)\n",
    "    #remove twitter handles (@user)\n",
    "    text = re.sub(\"(@[A-Za-z0-9_]+)\",\"\", text) \n",
    "    #remove url links\n",
    "    text = re.sub('http[s]?://(?:[a-zA-Z]|[0-9]|[$-_@.&+#]|[!*\\(\\),]|'\\\n",
    "                  '(?:%[0-9a-fA-F][0-9a-fA-F]))+','', text) \n",
    "    # remove whitespaces \n",
    "    text = ' '.join(text.split()) \n",
    "    return text"
   ]
  },
  {
   "cell_type": "code",
   "execution_count": 53,
   "metadata": {
    "scrolled": false
   },
   "outputs": [],
   "source": [
    "#Apply text cleaning function to cleaned_text column in df_tweets dataframe\n",
    "df_tweets['text'] = df_tweets['text'].apply(lambda x: tweet_cleaner(x))"
   ]
  },
  {
   "cell_type": "code",
   "execution_count": 54,
   "metadata": {
    "scrolled": false
   },
   "outputs": [
    {
     "data": {
      "text/html": [
       "<div>\n",
       "<style scoped>\n",
       "    .dataframe tbody tr th:only-of-type {\n",
       "        vertical-align: middle;\n",
       "    }\n",
       "\n",
       "    .dataframe tbody tr th {\n",
       "        vertical-align: top;\n",
       "    }\n",
       "\n",
       "    .dataframe thead th {\n",
       "        text-align: right;\n",
       "    }\n",
       "</style>\n",
       "<table border=\"1\" class=\"dataframe\">\n",
       "  <thead>\n",
       "    <tr style=\"text-align: right;\">\n",
       "      <th></th>\n",
       "      <th>text</th>\n",
       "      <th>date</th>\n",
       "      <th>user</th>\n",
       "      <th>location</th>\n",
       "      <th>keyword</th>\n",
       "    </tr>\n",
       "  </thead>\n",
       "  <tbody>\n",
       "    <tr>\n",
       "      <th>0</th>\n",
       "      <td>To “the vaccine have side effects” crowd If yo...</td>\n",
       "      <td>2021-05-09 18:20:37</td>\n",
       "      <td>thischeena</td>\n",
       "      <td>NaN</td>\n",
       "      <td>vaccine</td>\n",
       "    </tr>\n",
       "    <tr>\n",
       "      <th>1</th>\n",
       "      <td>From my own observation I don't see that comin...</td>\n",
       "      <td>2021-05-09 18:20:37</td>\n",
       "      <td>mokwenalebogan3</td>\n",
       "      <td>Pretoria, South Africa</td>\n",
       "      <td>vaccine</td>\n",
       "    </tr>\n",
       "    <tr>\n",
       "      <th>2</th>\n",
       "      <td>‘Grow the f*ck up and get the vaccine’ — These...</td>\n",
       "      <td>2021-05-09 18:20:37</td>\n",
       "      <td>rewir8rh83</td>\n",
       "      <td>ÜT: 37.678799,-120.987029</td>\n",
       "      <td>vaccine</td>\n",
       "    </tr>\n",
       "    <tr>\n",
       "      <th>3</th>\n",
       "      <td>Whoever I speak to abroad speaks very highly o...</td>\n",
       "      <td>2021-05-09 18:20:37</td>\n",
       "      <td>monambuj</td>\n",
       "      <td>NaN</td>\n",
       "      <td>vaccine</td>\n",
       "    </tr>\n",
       "    <tr>\n",
       "      <th>4</th>\n",
       "      <td>Kejriwal must rank as the shiftiest politician...</td>\n",
       "      <td>2021-05-09 18:20:36</td>\n",
       "      <td>Md_Ayesha_</td>\n",
       "      <td>Dubai, United Arab Emirates</td>\n",
       "      <td>vaccine</td>\n",
       "    </tr>\n",
       "    <tr>\n",
       "      <th>5</th>\n",
       "      <td>Me two hours ago: this vaccine ain’t sh*t Me now:</td>\n",
       "      <td>2021-05-09 18:20:35</td>\n",
       "      <td>mihu0307</td>\n",
       "      <td>By Liliana's side | She/They |</td>\n",
       "      <td>vaccine</td>\n",
       "    </tr>\n",
       "    <tr>\n",
       "      <th>6</th>\n",
       "      <td>It's moving really quick. I was not priority a...</td>\n",
       "      <td>2021-05-09 18:20:35</td>\n",
       "      <td>kpnov23</td>\n",
       "      <td>NaN</td>\n",
       "      <td>vaccine</td>\n",
       "    </tr>\n",
       "    <tr>\n",
       "      <th>7</th>\n",
       "      <td>Dracula's castle in Romania offers tourists Co...</td>\n",
       "      <td>2021-05-09 18:20:35</td>\n",
       "      <td>warlockthunder1</td>\n",
       "      <td>Oakville, Ontario</td>\n",
       "      <td>vaccine</td>\n",
       "    </tr>\n",
       "    <tr>\n",
       "      <th>8</th>\n",
       "      <td>While all the Twitheads out there are preachin...</td>\n",
       "      <td>2021-05-09 18:20:34</td>\n",
       "      <td>kadb99</td>\n",
       "      <td>NaN</td>\n",
       "      <td>vaccine</td>\n",
       "    </tr>\n",
       "    <tr>\n",
       "      <th>9</th>\n",
       "      <td>have you seen the photo on our vaccine certifi...</td>\n",
       "      <td>2021-05-09 18:20:34</td>\n",
       "      <td>MANJITSINGHARYA</td>\n",
       "      <td>haryana (india)</td>\n",
       "      <td>vaccine</td>\n",
       "    </tr>\n",
       "  </tbody>\n",
       "</table>\n",
       "</div>"
      ],
      "text/plain": [
       "                                                text                date  \\\n",
       "0  To “the vaccine have side effects” crowd If yo... 2021-05-09 18:20:37   \n",
       "1  From my own observation I don't see that comin... 2021-05-09 18:20:37   \n",
       "2  ‘Grow the f*ck up and get the vaccine’ — These... 2021-05-09 18:20:37   \n",
       "3  Whoever I speak to abroad speaks very highly o... 2021-05-09 18:20:37   \n",
       "4  Kejriwal must rank as the shiftiest politician... 2021-05-09 18:20:36   \n",
       "5  Me two hours ago: this vaccine ain’t sh*t Me now: 2021-05-09 18:20:35   \n",
       "6  It's moving really quick. I was not priority a... 2021-05-09 18:20:35   \n",
       "7  Dracula's castle in Romania offers tourists Co... 2021-05-09 18:20:35   \n",
       "8  While all the Twitheads out there are preachin... 2021-05-09 18:20:34   \n",
       "9  have you seen the photo on our vaccine certifi... 2021-05-09 18:20:34   \n",
       "\n",
       "              user                        location  keyword  \n",
       "0       thischeena                             NaN  vaccine  \n",
       "1  mokwenalebogan3          Pretoria, South Africa  vaccine  \n",
       "2       rewir8rh83       ÜT: 37.678799,-120.987029  vaccine  \n",
       "3         monambuj                             NaN  vaccine  \n",
       "4       Md_Ayesha_     Dubai, United Arab Emirates  vaccine  \n",
       "5         mihu0307  By Liliana's side | She/They |  vaccine  \n",
       "6          kpnov23                             NaN  vaccine  \n",
       "7  warlockthunder1               Oakville, Ontario  vaccine  \n",
       "8           kadb99                             NaN  vaccine  \n",
       "9  MANJITSINGHARYA                 haryana (india)  vaccine  "
      ]
     },
     "execution_count": 54,
     "metadata": {},
     "output_type": "execute_result"
    }
   ],
   "source": [
    "df_tweets.head(10)"
   ]
  },
  {
   "cell_type": "code",
   "execution_count": 55,
   "metadata": {
    "scrolled": true
   },
   "outputs": [
    {
     "data": {
      "text/plain": [
       "3211"
      ]
     },
     "execution_count": 55,
     "metadata": {},
     "output_type": "execute_result"
    }
   ],
   "source": [
    "df_tweets.duplicated(subset=['text']).sum()"
   ]
  },
  {
   "cell_type": "code",
   "execution_count": 56,
   "metadata": {},
   "outputs": [],
   "source": [
    "new_df=df_tweets.drop_duplicates(subset=['text'])"
   ]
  },
  {
   "cell_type": "code",
   "execution_count": 57,
   "metadata": {},
   "outputs": [
    {
     "data": {
      "text/plain": [
       "(40541, 5)"
      ]
     },
     "execution_count": 57,
     "metadata": {},
     "output_type": "execute_result"
    }
   ],
   "source": [
    "new_df.shape"
   ]
  },
  {
   "cell_type": "code",
   "execution_count": 58,
   "metadata": {},
   "outputs": [],
   "source": [
    "new_df.to_csv (r'C:\\\\Users\\\\user\\\\Untitled Folder 3\\\\data\\\\vadercleanedtweets.csv', index = False, header=True)"
   ]
  },
  {
   "cell_type": "code",
   "execution_count": 59,
   "metadata": {
    "scrolled": true
   },
   "outputs": [
    {
     "name": "stderr",
     "output_type": "stream",
     "text": [
      "[nltk_data] Downloading package vader_lexicon to\n",
      "[nltk_data]     C:\\Users\\user\\AppData\\Roaming\\nltk_data...\n",
      "[nltk_data]   Package vader_lexicon is already up-to-date!\n"
     ]
    },
    {
     "data": {
      "text/plain": [
       "True"
      ]
     },
     "execution_count": 59,
     "metadata": {},
     "output_type": "execute_result"
    }
   ],
   "source": [
    "import nltk\n",
    "nltk.download('vader_lexicon')"
   ]
  },
  {
   "cell_type": "code",
   "execution_count": 60,
   "metadata": {},
   "outputs": [],
   "source": [
    "from nltk.sentiment.vader import SentimentIntensityAnalyzer\n",
    "\n",
    "sid = SentimentIntensityAnalyzer()"
   ]
  },
  {
   "cell_type": "code",
   "execution_count": 61,
   "metadata": {},
   "outputs": [
    {
     "name": "stderr",
     "output_type": "stream",
     "text": [
      "<ipython-input-61-06c7c38546eb>:1: SettingWithCopyWarning: \n",
      "A value is trying to be set on a copy of a slice from a DataFrame.\n",
      "Try using .loc[row_indexer,col_indexer] = value instead\n",
      "\n",
      "See the caveats in the documentation: https://pandas.pydata.org/pandas-docs/stable/user_guide/indexing.html#returning-a-view-versus-a-copy\n",
      "  new_df['scores'] = new_df['text'].apply(lambda text: sid.polarity_scores(text))\n"
     ]
    },
    {
     "data": {
      "text/html": [
       "<div>\n",
       "<style scoped>\n",
       "    .dataframe tbody tr th:only-of-type {\n",
       "        vertical-align: middle;\n",
       "    }\n",
       "\n",
       "    .dataframe tbody tr th {\n",
       "        vertical-align: top;\n",
       "    }\n",
       "\n",
       "    .dataframe thead th {\n",
       "        text-align: right;\n",
       "    }\n",
       "</style>\n",
       "<table border=\"1\" class=\"dataframe\">\n",
       "  <thead>\n",
       "    <tr style=\"text-align: right;\">\n",
       "      <th></th>\n",
       "      <th>text</th>\n",
       "      <th>date</th>\n",
       "      <th>user</th>\n",
       "      <th>location</th>\n",
       "      <th>keyword</th>\n",
       "      <th>scores</th>\n",
       "    </tr>\n",
       "  </thead>\n",
       "  <tbody>\n",
       "    <tr>\n",
       "      <th>0</th>\n",
       "      <td>To “the vaccine have side effects” crowd If yo...</td>\n",
       "      <td>2021-05-09 18:20:37</td>\n",
       "      <td>thischeena</td>\n",
       "      <td>NaN</td>\n",
       "      <td>vaccine</td>\n",
       "      <td>{'neg': 0.0, 'neu': 1.0, 'pos': 0.0, 'compound...</td>\n",
       "    </tr>\n",
       "    <tr>\n",
       "      <th>1</th>\n",
       "      <td>From my own observation I don't see that comin...</td>\n",
       "      <td>2021-05-09 18:20:37</td>\n",
       "      <td>mokwenalebogan3</td>\n",
       "      <td>Pretoria, South Africa</td>\n",
       "      <td>vaccine</td>\n",
       "      <td>{'neg': 0.0, 'neu': 1.0, 'pos': 0.0, 'compound...</td>\n",
       "    </tr>\n",
       "    <tr>\n",
       "      <th>2</th>\n",
       "      <td>‘Grow the f*ck up and get the vaccine’ — These...</td>\n",
       "      <td>2021-05-09 18:20:37</td>\n",
       "      <td>rewir8rh83</td>\n",
       "      <td>ÜT: 37.678799,-120.987029</td>\n",
       "      <td>vaccine</td>\n",
       "      <td>{'neg': 0.0, 'neu': 0.656, 'pos': 0.344, 'comp...</td>\n",
       "    </tr>\n",
       "    <tr>\n",
       "      <th>3</th>\n",
       "      <td>Whoever I speak to abroad speaks very highly o...</td>\n",
       "      <td>2021-05-09 18:20:37</td>\n",
       "      <td>monambuj</td>\n",
       "      <td>NaN</td>\n",
       "      <td>vaccine</td>\n",
       "      <td>{'neg': 0.0, 'neu': 1.0, 'pos': 0.0, 'compound...</td>\n",
       "    </tr>\n",
       "    <tr>\n",
       "      <th>4</th>\n",
       "      <td>Kejriwal must rank as the shiftiest politician...</td>\n",
       "      <td>2021-05-09 18:20:36</td>\n",
       "      <td>Md_Ayesha_</td>\n",
       "      <td>Dubai, United Arab Emirates</td>\n",
       "      <td>vaccine</td>\n",
       "      <td>{'neg': 0.189, 'neu': 0.811, 'pos': 0.0, 'comp...</td>\n",
       "    </tr>\n",
       "    <tr>\n",
       "      <th>5</th>\n",
       "      <td>Me two hours ago: this vaccine ain’t sh*t Me now:</td>\n",
       "      <td>2021-05-09 18:20:35</td>\n",
       "      <td>mihu0307</td>\n",
       "      <td>By Liliana's side | She/They |</td>\n",
       "      <td>vaccine</td>\n",
       "      <td>{'neg': 0.0, 'neu': 1.0, 'pos': 0.0, 'compound...</td>\n",
       "    </tr>\n",
       "    <tr>\n",
       "      <th>6</th>\n",
       "      <td>It's moving really quick. I was not priority a...</td>\n",
       "      <td>2021-05-09 18:20:35</td>\n",
       "      <td>kpnov23</td>\n",
       "      <td>NaN</td>\n",
       "      <td>vaccine</td>\n",
       "      <td>{'neg': 0.0, 'neu': 1.0, 'pos': 0.0, 'compound...</td>\n",
       "    </tr>\n",
       "    <tr>\n",
       "      <th>7</th>\n",
       "      <td>Dracula's castle in Romania offers tourists Co...</td>\n",
       "      <td>2021-05-09 18:20:35</td>\n",
       "      <td>warlockthunder1</td>\n",
       "      <td>Oakville, Ontario</td>\n",
       "      <td>vaccine</td>\n",
       "      <td>{'neg': 0.0, 'neu': 1.0, 'pos': 0.0, 'compound...</td>\n",
       "    </tr>\n",
       "    <tr>\n",
       "      <th>8</th>\n",
       "      <td>While all the Twitheads out there are preachin...</td>\n",
       "      <td>2021-05-09 18:20:34</td>\n",
       "      <td>kadb99</td>\n",
       "      <td>NaN</td>\n",
       "      <td>vaccine</td>\n",
       "      <td>{'neg': 0.13, 'neu': 0.87, 'pos': 0.0, 'compou...</td>\n",
       "    </tr>\n",
       "    <tr>\n",
       "      <th>9</th>\n",
       "      <td>have you seen the photo on our vaccine certifi...</td>\n",
       "      <td>2021-05-09 18:20:34</td>\n",
       "      <td>MANJITSINGHARYA</td>\n",
       "      <td>haryana (india)</td>\n",
       "      <td>vaccine</td>\n",
       "      <td>{'neg': 0.0, 'neu': 0.873, 'pos': 0.127, 'comp...</td>\n",
       "    </tr>\n",
       "  </tbody>\n",
       "</table>\n",
       "</div>"
      ],
      "text/plain": [
       "                                                text                date  \\\n",
       "0  To “the vaccine have side effects” crowd If yo... 2021-05-09 18:20:37   \n",
       "1  From my own observation I don't see that comin... 2021-05-09 18:20:37   \n",
       "2  ‘Grow the f*ck up and get the vaccine’ — These... 2021-05-09 18:20:37   \n",
       "3  Whoever I speak to abroad speaks very highly o... 2021-05-09 18:20:37   \n",
       "4  Kejriwal must rank as the shiftiest politician... 2021-05-09 18:20:36   \n",
       "5  Me two hours ago: this vaccine ain’t sh*t Me now: 2021-05-09 18:20:35   \n",
       "6  It's moving really quick. I was not priority a... 2021-05-09 18:20:35   \n",
       "7  Dracula's castle in Romania offers tourists Co... 2021-05-09 18:20:35   \n",
       "8  While all the Twitheads out there are preachin... 2021-05-09 18:20:34   \n",
       "9  have you seen the photo on our vaccine certifi... 2021-05-09 18:20:34   \n",
       "\n",
       "              user                        location  keyword  \\\n",
       "0       thischeena                             NaN  vaccine   \n",
       "1  mokwenalebogan3          Pretoria, South Africa  vaccine   \n",
       "2       rewir8rh83       ÜT: 37.678799,-120.987029  vaccine   \n",
       "3         monambuj                             NaN  vaccine   \n",
       "4       Md_Ayesha_     Dubai, United Arab Emirates  vaccine   \n",
       "5         mihu0307  By Liliana's side | She/They |  vaccine   \n",
       "6          kpnov23                             NaN  vaccine   \n",
       "7  warlockthunder1               Oakville, Ontario  vaccine   \n",
       "8           kadb99                             NaN  vaccine   \n",
       "9  MANJITSINGHARYA                 haryana (india)  vaccine   \n",
       "\n",
       "                                              scores  \n",
       "0  {'neg': 0.0, 'neu': 1.0, 'pos': 0.0, 'compound...  \n",
       "1  {'neg': 0.0, 'neu': 1.0, 'pos': 0.0, 'compound...  \n",
       "2  {'neg': 0.0, 'neu': 0.656, 'pos': 0.344, 'comp...  \n",
       "3  {'neg': 0.0, 'neu': 1.0, 'pos': 0.0, 'compound...  \n",
       "4  {'neg': 0.189, 'neu': 0.811, 'pos': 0.0, 'comp...  \n",
       "5  {'neg': 0.0, 'neu': 1.0, 'pos': 0.0, 'compound...  \n",
       "6  {'neg': 0.0, 'neu': 1.0, 'pos': 0.0, 'compound...  \n",
       "7  {'neg': 0.0, 'neu': 1.0, 'pos': 0.0, 'compound...  \n",
       "8  {'neg': 0.13, 'neu': 0.87, 'pos': 0.0, 'compou...  \n",
       "9  {'neg': 0.0, 'neu': 0.873, 'pos': 0.127, 'comp...  "
      ]
     },
     "execution_count": 61,
     "metadata": {},
     "output_type": "execute_result"
    }
   ],
   "source": [
    "new_df['scores'] = new_df['text'].apply(lambda text: sid.polarity_scores(text))\n",
    "\n",
    "new_df.head(10)"
   ]
  },
  {
   "cell_type": "code",
   "execution_count": 62,
   "metadata": {},
   "outputs": [],
   "source": [
    "def sentimentPredict(sentiment):\n",
    "  if sentiment['compound'] >= 0.05:\n",
    "    return \"Positive\"\n",
    "  elif sentiment['compound'] <= -0.05:\n",
    "    return \"Negative\"\n",
    "  else:\n",
    "    return \"Neutral\""
   ]
  },
  {
   "cell_type": "code",
   "execution_count": 63,
   "metadata": {},
   "outputs": [
    {
     "name": "stderr",
     "output_type": "stream",
     "text": [
      "<ipython-input-63-d657f5addbba>:1: SettingWithCopyWarning: \n",
      "A value is trying to be set on a copy of a slice from a DataFrame.\n",
      "Try using .loc[row_indexer,col_indexer] = value instead\n",
      "\n",
      "See the caveats in the documentation: https://pandas.pydata.org/pandas-docs/stable/user_guide/indexing.html#returning-a-view-versus-a-copy\n",
      "  new_df['label'] =new_df['scores'].apply(lambda x: sentimentPredict(x))\n"
     ]
    }
   ],
   "source": [
    "new_df['label'] =new_df['scores'].apply(lambda x: sentimentPredict(x))"
   ]
  },
  {
   "cell_type": "code",
   "execution_count": 64,
   "metadata": {
    "scrolled": true
   },
   "outputs": [
    {
     "data": {
      "text/html": [
       "<div>\n",
       "<style scoped>\n",
       "    .dataframe tbody tr th:only-of-type {\n",
       "        vertical-align: middle;\n",
       "    }\n",
       "\n",
       "    .dataframe tbody tr th {\n",
       "        vertical-align: top;\n",
       "    }\n",
       "\n",
       "    .dataframe thead th {\n",
       "        text-align: right;\n",
       "    }\n",
       "</style>\n",
       "<table border=\"1\" class=\"dataframe\">\n",
       "  <thead>\n",
       "    <tr style=\"text-align: right;\">\n",
       "      <th></th>\n",
       "      <th>text</th>\n",
       "      <th>date</th>\n",
       "      <th>user</th>\n",
       "      <th>location</th>\n",
       "      <th>keyword</th>\n",
       "      <th>scores</th>\n",
       "      <th>label</th>\n",
       "    </tr>\n",
       "  </thead>\n",
       "  <tbody>\n",
       "    <tr>\n",
       "      <th>0</th>\n",
       "      <td>To “the vaccine have side effects” crowd If yo...</td>\n",
       "      <td>2021-05-09 18:20:37</td>\n",
       "      <td>thischeena</td>\n",
       "      <td>NaN</td>\n",
       "      <td>vaccine</td>\n",
       "      <td>{'neg': 0.0, 'neu': 1.0, 'pos': 0.0, 'compound...</td>\n",
       "      <td>Neutral</td>\n",
       "    </tr>\n",
       "    <tr>\n",
       "      <th>1</th>\n",
       "      <td>From my own observation I don't see that comin...</td>\n",
       "      <td>2021-05-09 18:20:37</td>\n",
       "      <td>mokwenalebogan3</td>\n",
       "      <td>Pretoria, South Africa</td>\n",
       "      <td>vaccine</td>\n",
       "      <td>{'neg': 0.0, 'neu': 1.0, 'pos': 0.0, 'compound...</td>\n",
       "      <td>Neutral</td>\n",
       "    </tr>\n",
       "    <tr>\n",
       "      <th>2</th>\n",
       "      <td>‘Grow the f*ck up and get the vaccine’ — These...</td>\n",
       "      <td>2021-05-09 18:20:37</td>\n",
       "      <td>rewir8rh83</td>\n",
       "      <td>ÜT: 37.678799,-120.987029</td>\n",
       "      <td>vaccine</td>\n",
       "      <td>{'neg': 0.0, 'neu': 0.656, 'pos': 0.344, 'comp...</td>\n",
       "      <td>Positive</td>\n",
       "    </tr>\n",
       "    <tr>\n",
       "      <th>3</th>\n",
       "      <td>Whoever I speak to abroad speaks very highly o...</td>\n",
       "      <td>2021-05-09 18:20:37</td>\n",
       "      <td>monambuj</td>\n",
       "      <td>NaN</td>\n",
       "      <td>vaccine</td>\n",
       "      <td>{'neg': 0.0, 'neu': 1.0, 'pos': 0.0, 'compound...</td>\n",
       "      <td>Neutral</td>\n",
       "    </tr>\n",
       "    <tr>\n",
       "      <th>4</th>\n",
       "      <td>Kejriwal must rank as the shiftiest politician...</td>\n",
       "      <td>2021-05-09 18:20:36</td>\n",
       "      <td>Md_Ayesha_</td>\n",
       "      <td>Dubai, United Arab Emirates</td>\n",
       "      <td>vaccine</td>\n",
       "      <td>{'neg': 0.189, 'neu': 0.811, 'pos': 0.0, 'comp...</td>\n",
       "      <td>Negative</td>\n",
       "    </tr>\n",
       "    <tr>\n",
       "      <th>5</th>\n",
       "      <td>Me two hours ago: this vaccine ain’t sh*t Me now:</td>\n",
       "      <td>2021-05-09 18:20:35</td>\n",
       "      <td>mihu0307</td>\n",
       "      <td>By Liliana's side | She/They |</td>\n",
       "      <td>vaccine</td>\n",
       "      <td>{'neg': 0.0, 'neu': 1.0, 'pos': 0.0, 'compound...</td>\n",
       "      <td>Neutral</td>\n",
       "    </tr>\n",
       "    <tr>\n",
       "      <th>6</th>\n",
       "      <td>It's moving really quick. I was not priority a...</td>\n",
       "      <td>2021-05-09 18:20:35</td>\n",
       "      <td>kpnov23</td>\n",
       "      <td>NaN</td>\n",
       "      <td>vaccine</td>\n",
       "      <td>{'neg': 0.0, 'neu': 1.0, 'pos': 0.0, 'compound...</td>\n",
       "      <td>Neutral</td>\n",
       "    </tr>\n",
       "    <tr>\n",
       "      <th>7</th>\n",
       "      <td>Dracula's castle in Romania offers tourists Co...</td>\n",
       "      <td>2021-05-09 18:20:35</td>\n",
       "      <td>warlockthunder1</td>\n",
       "      <td>Oakville, Ontario</td>\n",
       "      <td>vaccine</td>\n",
       "      <td>{'neg': 0.0, 'neu': 1.0, 'pos': 0.0, 'compound...</td>\n",
       "      <td>Neutral</td>\n",
       "    </tr>\n",
       "    <tr>\n",
       "      <th>8</th>\n",
       "      <td>While all the Twitheads out there are preachin...</td>\n",
       "      <td>2021-05-09 18:20:34</td>\n",
       "      <td>kadb99</td>\n",
       "      <td>NaN</td>\n",
       "      <td>vaccine</td>\n",
       "      <td>{'neg': 0.13, 'neu': 0.87, 'pos': 0.0, 'compou...</td>\n",
       "      <td>Negative</td>\n",
       "    </tr>\n",
       "    <tr>\n",
       "      <th>9</th>\n",
       "      <td>have you seen the photo on our vaccine certifi...</td>\n",
       "      <td>2021-05-09 18:20:34</td>\n",
       "      <td>MANJITSINGHARYA</td>\n",
       "      <td>haryana (india)</td>\n",
       "      <td>vaccine</td>\n",
       "      <td>{'neg': 0.0, 'neu': 0.873, 'pos': 0.127, 'comp...</td>\n",
       "      <td>Positive</td>\n",
       "    </tr>\n",
       "  </tbody>\n",
       "</table>\n",
       "</div>"
      ],
      "text/plain": [
       "                                                text                date  \\\n",
       "0  To “the vaccine have side effects” crowd If yo... 2021-05-09 18:20:37   \n",
       "1  From my own observation I don't see that comin... 2021-05-09 18:20:37   \n",
       "2  ‘Grow the f*ck up and get the vaccine’ — These... 2021-05-09 18:20:37   \n",
       "3  Whoever I speak to abroad speaks very highly o... 2021-05-09 18:20:37   \n",
       "4  Kejriwal must rank as the shiftiest politician... 2021-05-09 18:20:36   \n",
       "5  Me two hours ago: this vaccine ain’t sh*t Me now: 2021-05-09 18:20:35   \n",
       "6  It's moving really quick. I was not priority a... 2021-05-09 18:20:35   \n",
       "7  Dracula's castle in Romania offers tourists Co... 2021-05-09 18:20:35   \n",
       "8  While all the Twitheads out there are preachin... 2021-05-09 18:20:34   \n",
       "9  have you seen the photo on our vaccine certifi... 2021-05-09 18:20:34   \n",
       "\n",
       "              user                        location  keyword  \\\n",
       "0       thischeena                             NaN  vaccine   \n",
       "1  mokwenalebogan3          Pretoria, South Africa  vaccine   \n",
       "2       rewir8rh83       ÜT: 37.678799,-120.987029  vaccine   \n",
       "3         monambuj                             NaN  vaccine   \n",
       "4       Md_Ayesha_     Dubai, United Arab Emirates  vaccine   \n",
       "5         mihu0307  By Liliana's side | She/They |  vaccine   \n",
       "6          kpnov23                             NaN  vaccine   \n",
       "7  warlockthunder1               Oakville, Ontario  vaccine   \n",
       "8           kadb99                             NaN  vaccine   \n",
       "9  MANJITSINGHARYA                 haryana (india)  vaccine   \n",
       "\n",
       "                                              scores     label  \n",
       "0  {'neg': 0.0, 'neu': 1.0, 'pos': 0.0, 'compound...   Neutral  \n",
       "1  {'neg': 0.0, 'neu': 1.0, 'pos': 0.0, 'compound...   Neutral  \n",
       "2  {'neg': 0.0, 'neu': 0.656, 'pos': 0.344, 'comp...  Positive  \n",
       "3  {'neg': 0.0, 'neu': 1.0, 'pos': 0.0, 'compound...   Neutral  \n",
       "4  {'neg': 0.189, 'neu': 0.811, 'pos': 0.0, 'comp...  Negative  \n",
       "5  {'neg': 0.0, 'neu': 1.0, 'pos': 0.0, 'compound...   Neutral  \n",
       "6  {'neg': 0.0, 'neu': 1.0, 'pos': 0.0, 'compound...   Neutral  \n",
       "7  {'neg': 0.0, 'neu': 1.0, 'pos': 0.0, 'compound...   Neutral  \n",
       "8  {'neg': 0.13, 'neu': 0.87, 'pos': 0.0, 'compou...  Negative  \n",
       "9  {'neg': 0.0, 'neu': 0.873, 'pos': 0.127, 'comp...  Positive  "
      ]
     },
     "execution_count": 64,
     "metadata": {},
     "output_type": "execute_result"
    }
   ],
   "source": [
    "new_df.head(10)"
   ]
  },
  {
   "cell_type": "code",
   "execution_count": 2,
   "metadata": {},
   "outputs": [],
   "source": [
    "new_df=pd.read_csv(r'C:\\\\Users\\\\user\\\\Untitled Folder 3\\\\data\\\\tweets_sentiment.csv')"
   ]
  },
  {
   "cell_type": "code",
   "execution_count": 3,
   "metadata": {},
   "outputs": [],
   "source": [
    "positive = new_df[new_df['label']== 'Positive']\n",
    "negative = new_df[new_df['label']== 'Negative']\n",
    "neutral=new_df[new_df['label']=='Neutral']"
   ]
  },
  {
   "cell_type": "code",
   "execution_count": 4,
   "metadata": {
    "scrolled": false
   },
   "outputs": [
    {
     "name": "stdout",
     "output_type": "stream",
     "text": [
      "total no of positive tweets: 16195\n",
      "total no of negative tweets: 11580\n",
      "total no of neutral tweets: 14827\n"
     ]
    }
   ],
   "source": [
    "print(f'total no of positive tweets:' ,len(positive) )\n",
    "print(f'total no of negative tweets:' ,len(negative) )\n",
    "print(f'total no of neutral tweets:' ,len(neutral) )"
   ]
  },
  {
   "cell_type": "code",
   "execution_count": 5,
   "metadata": {
    "scrolled": true
   },
   "outputs": [
    {
     "data": {
      "text/plain": [
       "<matplotlib.axes._subplots.AxesSubplot at 0x1efd0e5bc40>"
      ]
     },
     "execution_count": 5,
     "metadata": {},
     "output_type": "execute_result"
    },
    {
     "data": {
      "image/png": "[encoded data removed]",
      "text/plain": [
       "<Figure size 432x288 with 1 Axes>"
      ]
     },
     "metadata": {
      "needs_background": "light"
     },
     "output_type": "display_data"
    }
   ],
   "source": [
    "import seaborn as sns\n",
    "sns.countplot(new_df['label'], label='count') "
   ]
  },
  {
   "cell_type": "code",
   "execution_count": 65,
   "metadata": {},
   "outputs": [],
   "source": [
    "new_df.to_csv (r'C:\\\\Users\\\\user\\\\Untitled Folder 3\\\\data\\\\tweets_sentiment.csv', index = False, header=True)"
   ]
  }
 ],
 "metadata": {
  "kernelspec": {
   "display_name": "Python 3",
   "language": "python",
   "name": "python3"
  },
  "language_info": {
   "codemirror_mode": {
    "name": "ipython",
    "version": 3
   },
   "file_extension": ".py",
   "mimetype": "text/x-python",
   "name": "python",
   "nbconvert_exporter": "python",
   "pygments_lexer": "ipython3",
   "version": "3.8.3"
  }
 },
 "nbformat": 4,
 "nbformat_minor": 4
}
